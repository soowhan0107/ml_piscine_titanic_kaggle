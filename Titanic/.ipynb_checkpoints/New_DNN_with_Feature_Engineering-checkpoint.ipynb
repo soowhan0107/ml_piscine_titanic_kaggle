{
 "cells": [
  {
   "cell_type": "code",
   "execution_count": 38,
   "metadata": {},
   "outputs": [],
   "source": [
    "# General Python Utils\n",
    "from collections import Counter\n",
    "\n",
    "import numpy as np\n",
    "import pandas as pd\n",
    "import matplotlib.pyplot as plt\n",
    "\n",
    "# Scikit-learn\n",
    "from sklearn.metrics import accuracy_score\n",
    "from sklearn.model_selection import KFold\n",
    "\n",
    "# Tensorflow\n",
    "import tensorflow as tf\n",
    "from tensorflow.python.data import Dataset\n",
    "tf.logging.set_verbosity(tf.logging.ERROR)"
   ]
  },
  {
   "cell_type": "markdown",
   "metadata": {},
   "source": [
    "### Data"
   ]
  },
  {
   "cell_type": "code",
   "execution_count": 10,
   "metadata": {},
   "outputs": [],
   "source": [
    "raw_train_df = pd.read_csv(\"train.csv\")\n",
    "raw_test_df = pd.read_csv(\"test.csv\")\n",
    "\n",
    "train_df = raw_train_df.copy()\n",
    "test_df = raw_test_df.copy()\n",
    "train_test_lst = [train_df, test_df]"
   ]
  },
  {
   "cell_type": "code",
   "execution_count": 11,
   "metadata": {},
   "outputs": [
    {
     "data": {
      "text/html": [
       "<div>\n",
       "<style scoped>\n",
       "    .dataframe tbody tr th:only-of-type {\n",
       "        vertical-align: middle;\n",
       "    }\n",
       "\n",
       "    .dataframe tbody tr th {\n",
       "        vertical-align: top;\n",
       "    }\n",
       "\n",
       "    .dataframe thead th {\n",
       "        text-align: right;\n",
       "    }\n",
       "</style>\n",
       "<table border=\"1\" class=\"dataframe\">\n",
       "  <thead>\n",
       "    <tr style=\"text-align: right;\">\n",
       "      <th></th>\n",
       "      <th>PassengerId</th>\n",
       "      <th>Survived</th>\n",
       "      <th>Pclass</th>\n",
       "      <th>Name</th>\n",
       "      <th>Sex</th>\n",
       "      <th>Age</th>\n",
       "      <th>SibSp</th>\n",
       "      <th>Parch</th>\n",
       "      <th>Ticket</th>\n",
       "      <th>Fare</th>\n",
       "      <th>Cabin</th>\n",
       "      <th>Embarked</th>\n",
       "    </tr>\n",
       "  </thead>\n",
       "  <tbody>\n",
       "    <tr>\n",
       "      <th>0</th>\n",
       "      <td>1</td>\n",
       "      <td>0</td>\n",
       "      <td>3</td>\n",
       "      <td>Braund, Mr. Owen Harris</td>\n",
       "      <td>male</td>\n",
       "      <td>22.0</td>\n",
       "      <td>1</td>\n",
       "      <td>0</td>\n",
       "      <td>A/5 21171</td>\n",
       "      <td>7.2500</td>\n",
       "      <td>NaN</td>\n",
       "      <td>S</td>\n",
       "    </tr>\n",
       "    <tr>\n",
       "      <th>1</th>\n",
       "      <td>2</td>\n",
       "      <td>1</td>\n",
       "      <td>1</td>\n",
       "      <td>Cumings, Mrs. John Bradley (Florence Briggs Th...</td>\n",
       "      <td>female</td>\n",
       "      <td>38.0</td>\n",
       "      <td>1</td>\n",
       "      <td>0</td>\n",
       "      <td>PC 17599</td>\n",
       "      <td>71.2833</td>\n",
       "      <td>C85</td>\n",
       "      <td>C</td>\n",
       "    </tr>\n",
       "    <tr>\n",
       "      <th>2</th>\n",
       "      <td>3</td>\n",
       "      <td>1</td>\n",
       "      <td>3</td>\n",
       "      <td>Heikkinen, Miss. Laina</td>\n",
       "      <td>female</td>\n",
       "      <td>26.0</td>\n",
       "      <td>0</td>\n",
       "      <td>0</td>\n",
       "      <td>STON/O2. 3101282</td>\n",
       "      <td>7.9250</td>\n",
       "      <td>NaN</td>\n",
       "      <td>S</td>\n",
       "    </tr>\n",
       "    <tr>\n",
       "      <th>3</th>\n",
       "      <td>4</td>\n",
       "      <td>1</td>\n",
       "      <td>1</td>\n",
       "      <td>Futrelle, Mrs. Jacques Heath (Lily May Peel)</td>\n",
       "      <td>female</td>\n",
       "      <td>35.0</td>\n",
       "      <td>1</td>\n",
       "      <td>0</td>\n",
       "      <td>113803</td>\n",
       "      <td>53.1000</td>\n",
       "      <td>C123</td>\n",
       "      <td>S</td>\n",
       "    </tr>\n",
       "    <tr>\n",
       "      <th>4</th>\n",
       "      <td>5</td>\n",
       "      <td>0</td>\n",
       "      <td>3</td>\n",
       "      <td>Allen, Mr. William Henry</td>\n",
       "      <td>male</td>\n",
       "      <td>35.0</td>\n",
       "      <td>0</td>\n",
       "      <td>0</td>\n",
       "      <td>373450</td>\n",
       "      <td>8.0500</td>\n",
       "      <td>NaN</td>\n",
       "      <td>S</td>\n",
       "    </tr>\n",
       "  </tbody>\n",
       "</table>\n",
       "</div>"
      ],
      "text/plain": [
       "   PassengerId  Survived  Pclass  \\\n",
       "0            1         0       3   \n",
       "1            2         1       1   \n",
       "2            3         1       3   \n",
       "3            4         1       1   \n",
       "4            5         0       3   \n",
       "\n",
       "                                                Name     Sex   Age  SibSp  \\\n",
       "0                            Braund, Mr. Owen Harris    male  22.0      1   \n",
       "1  Cumings, Mrs. John Bradley (Florence Briggs Th...  female  38.0      1   \n",
       "2                             Heikkinen, Miss. Laina  female  26.0      0   \n",
       "3       Futrelle, Mrs. Jacques Heath (Lily May Peel)  female  35.0      1   \n",
       "4                           Allen, Mr. William Henry    male  35.0      0   \n",
       "\n",
       "   Parch            Ticket     Fare Cabin Embarked  \n",
       "0      0         A/5 21171   7.2500   NaN        S  \n",
       "1      0          PC 17599  71.2833   C85        C  \n",
       "2      0  STON/O2. 3101282   7.9250   NaN        S  \n",
       "3      0            113803  53.1000  C123        S  \n",
       "4      0            373450   8.0500   NaN        S  "
      ]
     },
     "metadata": {},
     "output_type": "display_data"
    },
    {
     "data": {
      "text/html": [
       "<div>\n",
       "<style scoped>\n",
       "    .dataframe tbody tr th:only-of-type {\n",
       "        vertical-align: middle;\n",
       "    }\n",
       "\n",
       "    .dataframe tbody tr th {\n",
       "        vertical-align: top;\n",
       "    }\n",
       "\n",
       "    .dataframe thead th {\n",
       "        text-align: right;\n",
       "    }\n",
       "</style>\n",
       "<table border=\"1\" class=\"dataframe\">\n",
       "  <thead>\n",
       "    <tr style=\"text-align: right;\">\n",
       "      <th></th>\n",
       "      <th>PassengerId</th>\n",
       "      <th>Survived</th>\n",
       "      <th>Pclass</th>\n",
       "      <th>Age</th>\n",
       "      <th>SibSp</th>\n",
       "      <th>Parch</th>\n",
       "      <th>Fare</th>\n",
       "    </tr>\n",
       "  </thead>\n",
       "  <tbody>\n",
       "    <tr>\n",
       "      <th>count</th>\n",
       "      <td>891.000000</td>\n",
       "      <td>891.000000</td>\n",
       "      <td>891.000000</td>\n",
       "      <td>714.000000</td>\n",
       "      <td>891.000000</td>\n",
       "      <td>891.000000</td>\n",
       "      <td>891.000000</td>\n",
       "    </tr>\n",
       "    <tr>\n",
       "      <th>mean</th>\n",
       "      <td>446.000000</td>\n",
       "      <td>0.383838</td>\n",
       "      <td>2.308642</td>\n",
       "      <td>29.699118</td>\n",
       "      <td>0.523008</td>\n",
       "      <td>0.381594</td>\n",
       "      <td>32.204208</td>\n",
       "    </tr>\n",
       "    <tr>\n",
       "      <th>std</th>\n",
       "      <td>257.353842</td>\n",
       "      <td>0.486592</td>\n",
       "      <td>0.836071</td>\n",
       "      <td>14.526497</td>\n",
       "      <td>1.102743</td>\n",
       "      <td>0.806057</td>\n",
       "      <td>49.693429</td>\n",
       "    </tr>\n",
       "    <tr>\n",
       "      <th>min</th>\n",
       "      <td>1.000000</td>\n",
       "      <td>0.000000</td>\n",
       "      <td>1.000000</td>\n",
       "      <td>0.420000</td>\n",
       "      <td>0.000000</td>\n",
       "      <td>0.000000</td>\n",
       "      <td>0.000000</td>\n",
       "    </tr>\n",
       "    <tr>\n",
       "      <th>25%</th>\n",
       "      <td>223.500000</td>\n",
       "      <td>0.000000</td>\n",
       "      <td>2.000000</td>\n",
       "      <td>20.125000</td>\n",
       "      <td>0.000000</td>\n",
       "      <td>0.000000</td>\n",
       "      <td>7.910400</td>\n",
       "    </tr>\n",
       "    <tr>\n",
       "      <th>50%</th>\n",
       "      <td>446.000000</td>\n",
       "      <td>0.000000</td>\n",
       "      <td>3.000000</td>\n",
       "      <td>28.000000</td>\n",
       "      <td>0.000000</td>\n",
       "      <td>0.000000</td>\n",
       "      <td>14.454200</td>\n",
       "    </tr>\n",
       "    <tr>\n",
       "      <th>75%</th>\n",
       "      <td>668.500000</td>\n",
       "      <td>1.000000</td>\n",
       "      <td>3.000000</td>\n",
       "      <td>38.000000</td>\n",
       "      <td>1.000000</td>\n",
       "      <td>0.000000</td>\n",
       "      <td>31.000000</td>\n",
       "    </tr>\n",
       "    <tr>\n",
       "      <th>max</th>\n",
       "      <td>891.000000</td>\n",
       "      <td>1.000000</td>\n",
       "      <td>3.000000</td>\n",
       "      <td>80.000000</td>\n",
       "      <td>8.000000</td>\n",
       "      <td>6.000000</td>\n",
       "      <td>512.329200</td>\n",
       "    </tr>\n",
       "  </tbody>\n",
       "</table>\n",
       "</div>"
      ],
      "text/plain": [
       "       PassengerId    Survived      Pclass         Age       SibSp  \\\n",
       "count   891.000000  891.000000  891.000000  714.000000  891.000000   \n",
       "mean    446.000000    0.383838    2.308642   29.699118    0.523008   \n",
       "std     257.353842    0.486592    0.836071   14.526497    1.102743   \n",
       "min       1.000000    0.000000    1.000000    0.420000    0.000000   \n",
       "25%     223.500000    0.000000    2.000000   20.125000    0.000000   \n",
       "50%     446.000000    0.000000    3.000000   28.000000    0.000000   \n",
       "75%     668.500000    1.000000    3.000000   38.000000    1.000000   \n",
       "max     891.000000    1.000000    3.000000   80.000000    8.000000   \n",
       "\n",
       "            Parch        Fare  \n",
       "count  891.000000  891.000000  \n",
       "mean     0.381594   32.204208  \n",
       "std      0.806057   49.693429  \n",
       "min      0.000000    0.000000  \n",
       "25%      0.000000    7.910400  \n",
       "50%      0.000000   14.454200  \n",
       "75%      0.000000   31.000000  \n",
       "max      6.000000  512.329200  "
      ]
     },
     "metadata": {},
     "output_type": "display_data"
    }
   ],
   "source": [
    "# Taking a look at the first few values in the dataframe\n",
    "display(train_df.head())\n",
    "# Taking a look at the summary statistics for each feature\n",
    "display(train_df.describe())"
   ]
  },
  {
   "cell_type": "markdown",
   "metadata": {},
   "source": [
    "* Looking at the min of fare, it's 0. Fare can be a strong indicator for our prediction, so let's check"
   ]
  },
  {
   "cell_type": "code",
   "execution_count": 12,
   "metadata": {},
   "outputs": [
    {
     "data": {
      "text/html": [
       "<div>\n",
       "<style scoped>\n",
       "    .dataframe tbody tr th:only-of-type {\n",
       "        vertical-align: middle;\n",
       "    }\n",
       "\n",
       "    .dataframe tbody tr th {\n",
       "        vertical-align: top;\n",
       "    }\n",
       "\n",
       "    .dataframe thead th {\n",
       "        text-align: right;\n",
       "    }\n",
       "</style>\n",
       "<table border=\"1\" class=\"dataframe\">\n",
       "  <thead>\n",
       "    <tr style=\"text-align: right;\">\n",
       "      <th></th>\n",
       "      <th>PassengerId</th>\n",
       "      <th>Survived</th>\n",
       "      <th>Pclass</th>\n",
       "      <th>Name</th>\n",
       "      <th>Sex</th>\n",
       "      <th>Age</th>\n",
       "      <th>SibSp</th>\n",
       "      <th>Parch</th>\n",
       "      <th>Ticket</th>\n",
       "      <th>Fare</th>\n",
       "      <th>Cabin</th>\n",
       "      <th>Embarked</th>\n",
       "    </tr>\n",
       "  </thead>\n",
       "  <tbody>\n",
       "    <tr>\n",
       "      <th>179</th>\n",
       "      <td>180</td>\n",
       "      <td>0</td>\n",
       "      <td>3</td>\n",
       "      <td>Leonard, Mr. Lionel</td>\n",
       "      <td>male</td>\n",
       "      <td>36.0</td>\n",
       "      <td>0</td>\n",
       "      <td>0</td>\n",
       "      <td>LINE</td>\n",
       "      <td>0.0</td>\n",
       "      <td>NaN</td>\n",
       "      <td>S</td>\n",
       "    </tr>\n",
       "    <tr>\n",
       "      <th>263</th>\n",
       "      <td>264</td>\n",
       "      <td>0</td>\n",
       "      <td>1</td>\n",
       "      <td>Harrison, Mr. William</td>\n",
       "      <td>male</td>\n",
       "      <td>40.0</td>\n",
       "      <td>0</td>\n",
       "      <td>0</td>\n",
       "      <td>112059</td>\n",
       "      <td>0.0</td>\n",
       "      <td>B94</td>\n",
       "      <td>S</td>\n",
       "    </tr>\n",
       "    <tr>\n",
       "      <th>271</th>\n",
       "      <td>272</td>\n",
       "      <td>1</td>\n",
       "      <td>3</td>\n",
       "      <td>Tornquist, Mr. William Henry</td>\n",
       "      <td>male</td>\n",
       "      <td>25.0</td>\n",
       "      <td>0</td>\n",
       "      <td>0</td>\n",
       "      <td>LINE</td>\n",
       "      <td>0.0</td>\n",
       "      <td>NaN</td>\n",
       "      <td>S</td>\n",
       "    </tr>\n",
       "    <tr>\n",
       "      <th>277</th>\n",
       "      <td>278</td>\n",
       "      <td>0</td>\n",
       "      <td>2</td>\n",
       "      <td>Parkes, Mr. Francis \"Frank\"</td>\n",
       "      <td>male</td>\n",
       "      <td>NaN</td>\n",
       "      <td>0</td>\n",
       "      <td>0</td>\n",
       "      <td>239853</td>\n",
       "      <td>0.0</td>\n",
       "      <td>NaN</td>\n",
       "      <td>S</td>\n",
       "    </tr>\n",
       "    <tr>\n",
       "      <th>302</th>\n",
       "      <td>303</td>\n",
       "      <td>0</td>\n",
       "      <td>3</td>\n",
       "      <td>Johnson, Mr. William Cahoone Jr</td>\n",
       "      <td>male</td>\n",
       "      <td>19.0</td>\n",
       "      <td>0</td>\n",
       "      <td>0</td>\n",
       "      <td>LINE</td>\n",
       "      <td>0.0</td>\n",
       "      <td>NaN</td>\n",
       "      <td>S</td>\n",
       "    </tr>\n",
       "    <tr>\n",
       "      <th>413</th>\n",
       "      <td>414</td>\n",
       "      <td>0</td>\n",
       "      <td>2</td>\n",
       "      <td>Cunningham, Mr. Alfred Fleming</td>\n",
       "      <td>male</td>\n",
       "      <td>NaN</td>\n",
       "      <td>0</td>\n",
       "      <td>0</td>\n",
       "      <td>239853</td>\n",
       "      <td>0.0</td>\n",
       "      <td>NaN</td>\n",
       "      <td>S</td>\n",
       "    </tr>\n",
       "    <tr>\n",
       "      <th>466</th>\n",
       "      <td>467</td>\n",
       "      <td>0</td>\n",
       "      <td>2</td>\n",
       "      <td>Campbell, Mr. William</td>\n",
       "      <td>male</td>\n",
       "      <td>NaN</td>\n",
       "      <td>0</td>\n",
       "      <td>0</td>\n",
       "      <td>239853</td>\n",
       "      <td>0.0</td>\n",
       "      <td>NaN</td>\n",
       "      <td>S</td>\n",
       "    </tr>\n",
       "    <tr>\n",
       "      <th>481</th>\n",
       "      <td>482</td>\n",
       "      <td>0</td>\n",
       "      <td>2</td>\n",
       "      <td>Frost, Mr. Anthony Wood \"Archie\"</td>\n",
       "      <td>male</td>\n",
       "      <td>NaN</td>\n",
       "      <td>0</td>\n",
       "      <td>0</td>\n",
       "      <td>239854</td>\n",
       "      <td>0.0</td>\n",
       "      <td>NaN</td>\n",
       "      <td>S</td>\n",
       "    </tr>\n",
       "    <tr>\n",
       "      <th>597</th>\n",
       "      <td>598</td>\n",
       "      <td>0</td>\n",
       "      <td>3</td>\n",
       "      <td>Johnson, Mr. Alfred</td>\n",
       "      <td>male</td>\n",
       "      <td>49.0</td>\n",
       "      <td>0</td>\n",
       "      <td>0</td>\n",
       "      <td>LINE</td>\n",
       "      <td>0.0</td>\n",
       "      <td>NaN</td>\n",
       "      <td>S</td>\n",
       "    </tr>\n",
       "    <tr>\n",
       "      <th>633</th>\n",
       "      <td>634</td>\n",
       "      <td>0</td>\n",
       "      <td>1</td>\n",
       "      <td>Parr, Mr. William Henry Marsh</td>\n",
       "      <td>male</td>\n",
       "      <td>NaN</td>\n",
       "      <td>0</td>\n",
       "      <td>0</td>\n",
       "      <td>112052</td>\n",
       "      <td>0.0</td>\n",
       "      <td>NaN</td>\n",
       "      <td>S</td>\n",
       "    </tr>\n",
       "    <tr>\n",
       "      <th>674</th>\n",
       "      <td>675</td>\n",
       "      <td>0</td>\n",
       "      <td>2</td>\n",
       "      <td>Watson, Mr. Ennis Hastings</td>\n",
       "      <td>male</td>\n",
       "      <td>NaN</td>\n",
       "      <td>0</td>\n",
       "      <td>0</td>\n",
       "      <td>239856</td>\n",
       "      <td>0.0</td>\n",
       "      <td>NaN</td>\n",
       "      <td>S</td>\n",
       "    </tr>\n",
       "    <tr>\n",
       "      <th>732</th>\n",
       "      <td>733</td>\n",
       "      <td>0</td>\n",
       "      <td>2</td>\n",
       "      <td>Knight, Mr. Robert J</td>\n",
       "      <td>male</td>\n",
       "      <td>NaN</td>\n",
       "      <td>0</td>\n",
       "      <td>0</td>\n",
       "      <td>239855</td>\n",
       "      <td>0.0</td>\n",
       "      <td>NaN</td>\n",
       "      <td>S</td>\n",
       "    </tr>\n",
       "    <tr>\n",
       "      <th>806</th>\n",
       "      <td>807</td>\n",
       "      <td>0</td>\n",
       "      <td>1</td>\n",
       "      <td>Andrews, Mr. Thomas Jr</td>\n",
       "      <td>male</td>\n",
       "      <td>39.0</td>\n",
       "      <td>0</td>\n",
       "      <td>0</td>\n",
       "      <td>112050</td>\n",
       "      <td>0.0</td>\n",
       "      <td>A36</td>\n",
       "      <td>S</td>\n",
       "    </tr>\n",
       "    <tr>\n",
       "      <th>815</th>\n",
       "      <td>816</td>\n",
       "      <td>0</td>\n",
       "      <td>1</td>\n",
       "      <td>Fry, Mr. Richard</td>\n",
       "      <td>male</td>\n",
       "      <td>NaN</td>\n",
       "      <td>0</td>\n",
       "      <td>0</td>\n",
       "      <td>112058</td>\n",
       "      <td>0.0</td>\n",
       "      <td>B102</td>\n",
       "      <td>S</td>\n",
       "    </tr>\n",
       "    <tr>\n",
       "      <th>822</th>\n",
       "      <td>823</td>\n",
       "      <td>0</td>\n",
       "      <td>1</td>\n",
       "      <td>Reuchlin, Jonkheer. John George</td>\n",
       "      <td>male</td>\n",
       "      <td>38.0</td>\n",
       "      <td>0</td>\n",
       "      <td>0</td>\n",
       "      <td>19972</td>\n",
       "      <td>0.0</td>\n",
       "      <td>NaN</td>\n",
       "      <td>S</td>\n",
       "    </tr>\n",
       "  </tbody>\n",
       "</table>\n",
       "</div>"
      ],
      "text/plain": [
       "     PassengerId  Survived  Pclass                              Name   Sex  \\\n",
       "179          180         0       3               Leonard, Mr. Lionel  male   \n",
       "263          264         0       1             Harrison, Mr. William  male   \n",
       "271          272         1       3      Tornquist, Mr. William Henry  male   \n",
       "277          278         0       2       Parkes, Mr. Francis \"Frank\"  male   \n",
       "302          303         0       3   Johnson, Mr. William Cahoone Jr  male   \n",
       "413          414         0       2    Cunningham, Mr. Alfred Fleming  male   \n",
       "466          467         0       2             Campbell, Mr. William  male   \n",
       "481          482         0       2  Frost, Mr. Anthony Wood \"Archie\"  male   \n",
       "597          598         0       3               Johnson, Mr. Alfred  male   \n",
       "633          634         0       1     Parr, Mr. William Henry Marsh  male   \n",
       "674          675         0       2        Watson, Mr. Ennis Hastings  male   \n",
       "732          733         0       2              Knight, Mr. Robert J  male   \n",
       "806          807         0       1            Andrews, Mr. Thomas Jr  male   \n",
       "815          816         0       1                  Fry, Mr. Richard  male   \n",
       "822          823         0       1   Reuchlin, Jonkheer. John George  male   \n",
       "\n",
       "      Age  SibSp  Parch  Ticket  Fare Cabin Embarked  \n",
       "179  36.0      0      0    LINE   0.0   NaN        S  \n",
       "263  40.0      0      0  112059   0.0   B94        S  \n",
       "271  25.0      0      0    LINE   0.0   NaN        S  \n",
       "277   NaN      0      0  239853   0.0   NaN        S  \n",
       "302  19.0      0      0    LINE   0.0   NaN        S  \n",
       "413   NaN      0      0  239853   0.0   NaN        S  \n",
       "466   NaN      0      0  239853   0.0   NaN        S  \n",
       "481   NaN      0      0  239854   0.0   NaN        S  \n",
       "597  49.0      0      0    LINE   0.0   NaN        S  \n",
       "633   NaN      0      0  112052   0.0   NaN        S  \n",
       "674   NaN      0      0  239856   0.0   NaN        S  \n",
       "732   NaN      0      0  239855   0.0   NaN        S  \n",
       "806  39.0      0      0  112050   0.0   A36        S  \n",
       "815   NaN      0      0  112058   0.0  B102        S  \n",
       "822  38.0      0      0   19972   0.0   NaN        S  "
      ]
     },
     "execution_count": 12,
     "metadata": {},
     "output_type": "execute_result"
    }
   ],
   "source": [
    "train_df[train_df['Fare'] == 0]"
   ]
  },
  {
   "cell_type": "markdown",
   "metadata": {},
   "source": [
    "* Jonkheer in the list (Jonkheer is an honorific in the Low Countries denoting the lowest rank within the nobility), so there could have been 0 dollar fare for special status"
   ]
  },
  {
   "cell_type": "code",
   "execution_count": 13,
   "metadata": {},
   "outputs": [
    {
     "data": {
      "text/html": [
       "<div>\n",
       "<style scoped>\n",
       "    .dataframe tbody tr th:only-of-type {\n",
       "        vertical-align: middle;\n",
       "    }\n",
       "\n",
       "    .dataframe tbody tr th {\n",
       "        vertical-align: top;\n",
       "    }\n",
       "\n",
       "    .dataframe thead th {\n",
       "        text-align: right;\n",
       "    }\n",
       "</style>\n",
       "<table border=\"1\" class=\"dataframe\">\n",
       "  <thead>\n",
       "    <tr style=\"text-align: right;\">\n",
       "      <th></th>\n",
       "      <th>PassengerId</th>\n",
       "      <th>Pclass</th>\n",
       "      <th>Name</th>\n",
       "      <th>Sex</th>\n",
       "      <th>Age</th>\n",
       "      <th>SibSp</th>\n",
       "      <th>Parch</th>\n",
       "      <th>Ticket</th>\n",
       "      <th>Fare</th>\n",
       "      <th>Cabin</th>\n",
       "      <th>Embarked</th>\n",
       "    </tr>\n",
       "  </thead>\n",
       "  <tbody>\n",
       "    <tr>\n",
       "      <th>0</th>\n",
       "      <td>892</td>\n",
       "      <td>3</td>\n",
       "      <td>Kelly, Mr. James</td>\n",
       "      <td>male</td>\n",
       "      <td>34.5</td>\n",
       "      <td>0</td>\n",
       "      <td>0</td>\n",
       "      <td>330911</td>\n",
       "      <td>7.8292</td>\n",
       "      <td>NaN</td>\n",
       "      <td>Q</td>\n",
       "    </tr>\n",
       "    <tr>\n",
       "      <th>1</th>\n",
       "      <td>893</td>\n",
       "      <td>3</td>\n",
       "      <td>Wilkes, Mrs. James (Ellen Needs)</td>\n",
       "      <td>female</td>\n",
       "      <td>47.0</td>\n",
       "      <td>1</td>\n",
       "      <td>0</td>\n",
       "      <td>363272</td>\n",
       "      <td>7.0000</td>\n",
       "      <td>NaN</td>\n",
       "      <td>S</td>\n",
       "    </tr>\n",
       "    <tr>\n",
       "      <th>2</th>\n",
       "      <td>894</td>\n",
       "      <td>2</td>\n",
       "      <td>Myles, Mr. Thomas Francis</td>\n",
       "      <td>male</td>\n",
       "      <td>62.0</td>\n",
       "      <td>0</td>\n",
       "      <td>0</td>\n",
       "      <td>240276</td>\n",
       "      <td>9.6875</td>\n",
       "      <td>NaN</td>\n",
       "      <td>Q</td>\n",
       "    </tr>\n",
       "    <tr>\n",
       "      <th>3</th>\n",
       "      <td>895</td>\n",
       "      <td>3</td>\n",
       "      <td>Wirz, Mr. Albert</td>\n",
       "      <td>male</td>\n",
       "      <td>27.0</td>\n",
       "      <td>0</td>\n",
       "      <td>0</td>\n",
       "      <td>315154</td>\n",
       "      <td>8.6625</td>\n",
       "      <td>NaN</td>\n",
       "      <td>S</td>\n",
       "    </tr>\n",
       "    <tr>\n",
       "      <th>4</th>\n",
       "      <td>896</td>\n",
       "      <td>3</td>\n",
       "      <td>Hirvonen, Mrs. Alexander (Helga E Lindqvist)</td>\n",
       "      <td>female</td>\n",
       "      <td>22.0</td>\n",
       "      <td>1</td>\n",
       "      <td>1</td>\n",
       "      <td>3101298</td>\n",
       "      <td>12.2875</td>\n",
       "      <td>NaN</td>\n",
       "      <td>S</td>\n",
       "    </tr>\n",
       "  </tbody>\n",
       "</table>\n",
       "</div>"
      ],
      "text/plain": [
       "   PassengerId  Pclass                                          Name     Sex  \\\n",
       "0          892       3                              Kelly, Mr. James    male   \n",
       "1          893       3              Wilkes, Mrs. James (Ellen Needs)  female   \n",
       "2          894       2                     Myles, Mr. Thomas Francis    male   \n",
       "3          895       3                              Wirz, Mr. Albert    male   \n",
       "4          896       3  Hirvonen, Mrs. Alexander (Helga E Lindqvist)  female   \n",
       "\n",
       "    Age  SibSp  Parch   Ticket     Fare Cabin Embarked  \n",
       "0  34.5      0      0   330911   7.8292   NaN        Q  \n",
       "1  47.0      1      0   363272   7.0000   NaN        S  \n",
       "2  62.0      0      0   240276   9.6875   NaN        Q  \n",
       "3  27.0      0      0   315154   8.6625   NaN        S  \n",
       "4  22.0      1      1  3101298  12.2875   NaN        S  "
      ]
     },
     "metadata": {},
     "output_type": "display_data"
    },
    {
     "data": {
      "text/html": [
       "<div>\n",
       "<style scoped>\n",
       "    .dataframe tbody tr th:only-of-type {\n",
       "        vertical-align: middle;\n",
       "    }\n",
       "\n",
       "    .dataframe tbody tr th {\n",
       "        vertical-align: top;\n",
       "    }\n",
       "\n",
       "    .dataframe thead th {\n",
       "        text-align: right;\n",
       "    }\n",
       "</style>\n",
       "<table border=\"1\" class=\"dataframe\">\n",
       "  <thead>\n",
       "    <tr style=\"text-align: right;\">\n",
       "      <th></th>\n",
       "      <th>PassengerId</th>\n",
       "      <th>Pclass</th>\n",
       "      <th>Age</th>\n",
       "      <th>SibSp</th>\n",
       "      <th>Parch</th>\n",
       "      <th>Fare</th>\n",
       "    </tr>\n",
       "  </thead>\n",
       "  <tbody>\n",
       "    <tr>\n",
       "      <th>count</th>\n",
       "      <td>418.000000</td>\n",
       "      <td>418.000000</td>\n",
       "      <td>332.000000</td>\n",
       "      <td>418.000000</td>\n",
       "      <td>418.000000</td>\n",
       "      <td>417.000000</td>\n",
       "    </tr>\n",
       "    <tr>\n",
       "      <th>mean</th>\n",
       "      <td>1100.500000</td>\n",
       "      <td>2.265550</td>\n",
       "      <td>30.272590</td>\n",
       "      <td>0.447368</td>\n",
       "      <td>0.392344</td>\n",
       "      <td>35.627188</td>\n",
       "    </tr>\n",
       "    <tr>\n",
       "      <th>std</th>\n",
       "      <td>120.810458</td>\n",
       "      <td>0.841838</td>\n",
       "      <td>14.181209</td>\n",
       "      <td>0.896760</td>\n",
       "      <td>0.981429</td>\n",
       "      <td>55.907576</td>\n",
       "    </tr>\n",
       "    <tr>\n",
       "      <th>min</th>\n",
       "      <td>892.000000</td>\n",
       "      <td>1.000000</td>\n",
       "      <td>0.170000</td>\n",
       "      <td>0.000000</td>\n",
       "      <td>0.000000</td>\n",
       "      <td>0.000000</td>\n",
       "    </tr>\n",
       "    <tr>\n",
       "      <th>25%</th>\n",
       "      <td>996.250000</td>\n",
       "      <td>1.000000</td>\n",
       "      <td>21.000000</td>\n",
       "      <td>0.000000</td>\n",
       "      <td>0.000000</td>\n",
       "      <td>7.895800</td>\n",
       "    </tr>\n",
       "    <tr>\n",
       "      <th>50%</th>\n",
       "      <td>1100.500000</td>\n",
       "      <td>3.000000</td>\n",
       "      <td>27.000000</td>\n",
       "      <td>0.000000</td>\n",
       "      <td>0.000000</td>\n",
       "      <td>14.454200</td>\n",
       "    </tr>\n",
       "    <tr>\n",
       "      <th>75%</th>\n",
       "      <td>1204.750000</td>\n",
       "      <td>3.000000</td>\n",
       "      <td>39.000000</td>\n",
       "      <td>1.000000</td>\n",
       "      <td>0.000000</td>\n",
       "      <td>31.500000</td>\n",
       "    </tr>\n",
       "    <tr>\n",
       "      <th>max</th>\n",
       "      <td>1309.000000</td>\n",
       "      <td>3.000000</td>\n",
       "      <td>76.000000</td>\n",
       "      <td>8.000000</td>\n",
       "      <td>9.000000</td>\n",
       "      <td>512.329200</td>\n",
       "    </tr>\n",
       "  </tbody>\n",
       "</table>\n",
       "</div>"
      ],
      "text/plain": [
       "       PassengerId      Pclass         Age       SibSp       Parch        Fare\n",
       "count   418.000000  418.000000  332.000000  418.000000  418.000000  417.000000\n",
       "mean   1100.500000    2.265550   30.272590    0.447368    0.392344   35.627188\n",
       "std     120.810458    0.841838   14.181209    0.896760    0.981429   55.907576\n",
       "min     892.000000    1.000000    0.170000    0.000000    0.000000    0.000000\n",
       "25%     996.250000    1.000000   21.000000    0.000000    0.000000    7.895800\n",
       "50%    1100.500000    3.000000   27.000000    0.000000    0.000000   14.454200\n",
       "75%    1204.750000    3.000000   39.000000    1.000000    0.000000   31.500000\n",
       "max    1309.000000    3.000000   76.000000    8.000000    9.000000  512.329200"
      ]
     },
     "metadata": {},
     "output_type": "display_data"
    }
   ],
   "source": [
    "# Test_sets\n",
    "display(test_df.head())\n",
    "display(test_df.describe())"
   ]
  },
  {
   "cell_type": "markdown",
   "metadata": {},
   "source": [
    "### Missing Values"
   ]
  },
  {
   "cell_type": "code",
   "execution_count": 16,
   "metadata": {},
   "outputs": [
    {
     "data": {
      "text/plain": [
       "PassengerId      0\n",
       "Survived         0\n",
       "Pclass           0\n",
       "Name             0\n",
       "Sex              0\n",
       "Age            177\n",
       "SibSp            0\n",
       "Parch            0\n",
       "Ticket           0\n",
       "Fare             0\n",
       "Cabin          687\n",
       "Embarked         2\n",
       "dtype: int64"
      ]
     },
     "metadata": {},
     "output_type": "display_data"
    }
   ],
   "source": [
    "#train\n",
    "display(train_df.isnull().sum())"
   ]
  },
  {
   "cell_type": "code",
   "execution_count": 17,
   "metadata": {},
   "outputs": [
    {
     "data": {
      "text/plain": [
       "PassengerId      0\n",
       "Pclass           0\n",
       "Name             0\n",
       "Sex              0\n",
       "Age             86\n",
       "SibSp            0\n",
       "Parch            0\n",
       "Ticket           0\n",
       "Fare             1\n",
       "Cabin          327\n",
       "Embarked         0\n",
       "dtype: int64"
      ]
     },
     "metadata": {},
     "output_type": "display_data"
    }
   ],
   "source": [
    "#test\n",
    "display(test_df.isnull().sum())"
   ]
  },
  {
   "cell_type": "markdown",
   "metadata": {},
   "source": [
    "* Cabin seems like it's going to be a pain. Let's check if it even has some predictive strength"
   ]
  },
  {
   "cell_type": "code",
   "execution_count": 24,
   "metadata": {},
   "outputs": [
    {
     "data": {
      "text/html": [
       "<div>\n",
       "<style scoped>\n",
       "    .dataframe tbody tr th:only-of-type {\n",
       "        vertical-align: middle;\n",
       "    }\n",
       "\n",
       "    .dataframe tbody tr th {\n",
       "        vertical-align: top;\n",
       "    }\n",
       "\n",
       "    .dataframe thead th {\n",
       "        text-align: right;\n",
       "    }\n",
       "</style>\n",
       "<table border=\"1\" class=\"dataframe\">\n",
       "  <thead>\n",
       "    <tr style=\"text-align: right;\">\n",
       "      <th></th>\n",
       "      <th>PassengerId</th>\n",
       "      <th>Survived</th>\n",
       "      <th>Pclass</th>\n",
       "      <th>Name</th>\n",
       "      <th>Sex</th>\n",
       "      <th>Age</th>\n",
       "      <th>SibSp</th>\n",
       "      <th>Parch</th>\n",
       "      <th>Ticket</th>\n",
       "      <th>Fare</th>\n",
       "      <th>Cabin</th>\n",
       "      <th>Embarked</th>\n",
       "      <th>deck_level</th>\n",
       "    </tr>\n",
       "  </thead>\n",
       "  <tbody>\n",
       "    <tr>\n",
       "      <th>1</th>\n",
       "      <td>2</td>\n",
       "      <td>1</td>\n",
       "      <td>1</td>\n",
       "      <td>Cumings, Mrs. John Bradley (Florence Briggs Th...</td>\n",
       "      <td>female</td>\n",
       "      <td>38.0</td>\n",
       "      <td>1</td>\n",
       "      <td>0</td>\n",
       "      <td>PC 17599</td>\n",
       "      <td>71.2833</td>\n",
       "      <td>C85</td>\n",
       "      <td>C</td>\n",
       "      <td>C</td>\n",
       "    </tr>\n",
       "    <tr>\n",
       "      <th>3</th>\n",
       "      <td>4</td>\n",
       "      <td>1</td>\n",
       "      <td>1</td>\n",
       "      <td>Futrelle, Mrs. Jacques Heath (Lily May Peel)</td>\n",
       "      <td>female</td>\n",
       "      <td>35.0</td>\n",
       "      <td>1</td>\n",
       "      <td>0</td>\n",
       "      <td>113803</td>\n",
       "      <td>53.1000</td>\n",
       "      <td>C123</td>\n",
       "      <td>S</td>\n",
       "      <td>C</td>\n",
       "    </tr>\n",
       "    <tr>\n",
       "      <th>6</th>\n",
       "      <td>7</td>\n",
       "      <td>0</td>\n",
       "      <td>1</td>\n",
       "      <td>McCarthy, Mr. Timothy J</td>\n",
       "      <td>male</td>\n",
       "      <td>54.0</td>\n",
       "      <td>0</td>\n",
       "      <td>0</td>\n",
       "      <td>17463</td>\n",
       "      <td>51.8625</td>\n",
       "      <td>E46</td>\n",
       "      <td>S</td>\n",
       "      <td>E</td>\n",
       "    </tr>\n",
       "    <tr>\n",
       "      <th>10</th>\n",
       "      <td>11</td>\n",
       "      <td>1</td>\n",
       "      <td>3</td>\n",
       "      <td>Sandstrom, Miss. Marguerite Rut</td>\n",
       "      <td>female</td>\n",
       "      <td>4.0</td>\n",
       "      <td>1</td>\n",
       "      <td>1</td>\n",
       "      <td>PP 9549</td>\n",
       "      <td>16.7000</td>\n",
       "      <td>G6</td>\n",
       "      <td>S</td>\n",
       "      <td>G</td>\n",
       "    </tr>\n",
       "    <tr>\n",
       "      <th>11</th>\n",
       "      <td>12</td>\n",
       "      <td>1</td>\n",
       "      <td>1</td>\n",
       "      <td>Bonnell, Miss. Elizabeth</td>\n",
       "      <td>female</td>\n",
       "      <td>58.0</td>\n",
       "      <td>0</td>\n",
       "      <td>0</td>\n",
       "      <td>113783</td>\n",
       "      <td>26.5500</td>\n",
       "      <td>C103</td>\n",
       "      <td>S</td>\n",
       "      <td>C</td>\n",
       "    </tr>\n",
       "  </tbody>\n",
       "</table>\n",
       "</div>"
      ],
      "text/plain": [
       "    PassengerId  Survived  Pclass  \\\n",
       "1             2         1       1   \n",
       "3             4         1       1   \n",
       "6             7         0       1   \n",
       "10           11         1       3   \n",
       "11           12         1       1   \n",
       "\n",
       "                                                 Name     Sex   Age  SibSp  \\\n",
       "1   Cumings, Mrs. John Bradley (Florence Briggs Th...  female  38.0      1   \n",
       "3        Futrelle, Mrs. Jacques Heath (Lily May Peel)  female  35.0      1   \n",
       "6                             McCarthy, Mr. Timothy J    male  54.0      0   \n",
       "10                    Sandstrom, Miss. Marguerite Rut  female   4.0      1   \n",
       "11                           Bonnell, Miss. Elizabeth  female  58.0      0   \n",
       "\n",
       "    Parch    Ticket     Fare Cabin Embarked deck_level  \n",
       "1       0  PC 17599  71.2833   C85        C          C  \n",
       "3       0    113803  53.1000  C123        S          C  \n",
       "6       0     17463  51.8625   E46        S          E  \n",
       "10      1   PP 9549  16.7000    G6        S          G  \n",
       "11      0    113783  26.5500  C103        S          C  "
      ]
     },
     "metadata": {},
     "output_type": "display_data"
    },
    {
     "name": "stdout",
     "output_type": "stream",
     "text": [
      "Survival chances based on deck level:\n"
     ]
    },
    {
     "data": {
      "text/plain": [
       "deck_level\n",
       "A    0.466667\n",
       "B    0.744681\n",
       "C    0.593220\n",
       "D    0.757576\n",
       "E    0.750000\n",
       "F    0.615385\n",
       "G    0.500000\n",
       "T    0.000000\n",
       "Name: Survived, dtype: float64"
      ]
     },
     "execution_count": 24,
     "metadata": {},
     "output_type": "execute_result"
    }
   ],
   "source": [
    "# Let's only consider data that has non-NaN Cabin values (Age or Embarked can still be NaN!)\n",
    "cabin_df = train_df[train_df['Cabin'].notnull()]\n",
    "\n",
    "# Let's create a new feature 'deck_level' that groups passengers by deck levels\n",
    "cabin_df = cabin_df.assign(deck_level=pd.Series([entry[:1] for entry in cabin_df['Cabin']]).values)\n",
    "display(cabin_df.head())\n",
    "\n",
    "print(\"Survival chances based on deck level:\")\n",
    "cabin_df.groupby(['deck_level'])['Survived'].mean()"
   ]
  },
  {
   "cell_type": "markdown",
   "metadata": {},
   "source": [
    "* Seems to give a bit of predictiveness.\n",
    "* Though, it does not have pattern. What this only tells us is that if you are in T deck_level, then you have 0 chance of surviving. Though, this can give a noisy signal with PClass. PClass already tells us such behavior. So, we will take it out"
   ]
  },
  {
   "cell_type": "code",
   "execution_count": 26,
   "metadata": {},
   "outputs": [
    {
     "data": {
      "image/png": "[encoded data removed]",
      "text/plain": [
       "<Figure size 432x288 with 1 Axes>"
      ]
     },
     "metadata": {
      "needs_background": "light"
     },
     "output_type": "display_data"
    }
   ],
   "source": [
    "train_df.groupby(['Pclass', 'deck_level']).size().unstack(0).plot.bar(stacked=True)\n",
    "plt.title(\"Histogram of deck_level grouped by Pclass\")\n",
    "_ = plt.ylabel(\"Frequency\")"
   ]
  },
  {
   "cell_type": "code",
   "execution_count": 28,
   "metadata": {},
   "outputs": [
    {
     "data": {
      "text/plain": [
       "\"\\ndef process_deck_level(train_test_lst):\\n    new = []\\n    for dataset in train_test_lst:\\n        dataset = dataset.copy(deep=True)\\n        # Take the first letter of the Cabin entry if it's not nan. Otherwise, it should be labelled as 'U'.\\n        dataset = dataset.assign(deck_level=pd.Series([entry[:1] if not pd.isnull(entry) else 'U' for entry in dataset['Cabin']]))\\n        # Okay, now let's drop the Cabin column from our dataset\\n        dataset = dataset.drop(['Cabin'], axis = 1)\\n        new.append(dataset)\\n    return (new)\\n\\ntrain_df, test_df = process_deck_level(train_test_lst)\\n\\n# Let's check that we did the right thing...\\ndisplay(train_df.head())\\ndisplay(test_df.head())\\n# Let's also recheck what's still missing\\ndisplay(train_df.isnull().sum())\\ndisplay(test_df.isnull().sum())\\n\""
      ]
     },
     "execution_count": 28,
     "metadata": {},
     "output_type": "execute_result"
    }
   ],
   "source": [
    "# If wanted to use deck_level and Cabin info\n",
    "\"\"\"\n",
    "def process_deck_level(train_test_lst):\n",
    "    new = []\n",
    "    for dataset in train_test_lst:\n",
    "        dataset = dataset.copy(deep=True)\n",
    "        # Take the first letter of the Cabin entry if it's not nan. Otherwise, it should be labelled as 'U'.\n",
    "        dataset = dataset.assign(deck_level=pd.Series([entry[:1] if not pd.isnull(entry) else 'U' for entry in dataset['Cabin']]))\n",
    "        # Okay, now let's drop the Cabin column from our dataset\n",
    "        dataset = dataset.drop(['Cabin'], axis = 1)\n",
    "        new.append(dataset)\n",
    "    return (new)\n",
    "\n",
    "train_df, test_df = process_deck_level(train_test_lst)\n",
    "\n",
    "# Let's check that we did the right thing...\n",
    "display(train_df.head())\n",
    "display(test_df.head())\n",
    "# Let's also recheck what's still missing\n",
    "display(train_df.isnull().sum())\n",
    "display(test_df.isnull().sum())\n",
    "\"\"\""
   ]
  },
  {
   "cell_type": "markdown",
   "metadata": {},
   "source": [
    "### Let's see into Embarked now"
   ]
  },
  {
   "cell_type": "code",
   "execution_count": 29,
   "metadata": {},
   "outputs": [
    {
     "data": {
      "text/plain": [
       "{'C', 'Q', 'S', nan}"
      ]
     },
     "metadata": {},
     "output_type": "display_data"
    },
    {
     "name": "stdout",
     "output_type": "stream",
     "text": [
      "Survival chances based on embarcation:\n"
     ]
    },
    {
     "data": {
      "text/plain": [
       "Embarked\n",
       "C    0.553571\n",
       "Q    0.389610\n",
       "S    0.336957\n",
       "Name: Survived, dtype: float64"
      ]
     },
     "execution_count": 29,
     "metadata": {},
     "output_type": "execute_result"
    }
   ],
   "source": [
    "display(set(train_df['Embarked']))\n",
    "print(\"Survival chances based on embarcation:\")\n",
    "train_df.groupby(['Embarked'])['Survived'].mean()"
   ]
  },
  {
   "cell_type": "markdown",
   "metadata": {},
   "source": [
    "* It looks like people who embarked from Q had a low survival rate and S had an especially low survival rate\n",
    "\n",
    "* For this feature, we'll also fill NaN values with 'N' for 'Not known' since filling with C/Q/S looks like it would make a big difference."
   ]
  },
  {
   "cell_type": "code",
   "execution_count": 30,
   "metadata": {},
   "outputs": [
    {
     "data": {
      "text/plain": [
       "{'C', 'N', 'Q', 'S'}"
      ]
     },
     "metadata": {},
     "output_type": "display_data"
    },
    {
     "data": {
      "text/plain": [
       "PassengerId      0\n",
       "Survived         0\n",
       "Pclass           0\n",
       "Name             0\n",
       "Sex              0\n",
       "Age            177\n",
       "SibSp            0\n",
       "Parch            0\n",
       "Ticket           0\n",
       "Fare             0\n",
       "Embarked         0\n",
       "deck_level       0\n",
       "dtype: int64"
      ]
     },
     "metadata": {},
     "output_type": "display_data"
    }
   ],
   "source": [
    "# Replace NaN values in the 'Embarked' column with 'N'\n",
    "train_df[['Embarked']] = train_df[['Embarked']].fillna('N')\n",
    "# Let's check that we filled things correctly!\n",
    "display(set(train_df['Embarked']))\n",
    "display(train_df.isnull().sum())"
   ]
  },
  {
   "cell_type": "markdown",
   "metadata": {},
   "source": [
    "* Quick look at the test data to see what this 1 missing fare value is"
   ]
  },
  {
   "cell_type": "code",
   "execution_count": 31,
   "metadata": {},
   "outputs": [
    {
     "data": {
      "text/html": [
       "<div>\n",
       "<style scoped>\n",
       "    .dataframe tbody tr th:only-of-type {\n",
       "        vertical-align: middle;\n",
       "    }\n",
       "\n",
       "    .dataframe tbody tr th {\n",
       "        vertical-align: top;\n",
       "    }\n",
       "\n",
       "    .dataframe thead th {\n",
       "        text-align: right;\n",
       "    }\n",
       "</style>\n",
       "<table border=\"1\" class=\"dataframe\">\n",
       "  <thead>\n",
       "    <tr style=\"text-align: right;\">\n",
       "      <th></th>\n",
       "      <th>PassengerId</th>\n",
       "      <th>Pclass</th>\n",
       "      <th>Name</th>\n",
       "      <th>Sex</th>\n",
       "      <th>Age</th>\n",
       "      <th>SibSp</th>\n",
       "      <th>Parch</th>\n",
       "      <th>Ticket</th>\n",
       "      <th>Fare</th>\n",
       "      <th>Embarked</th>\n",
       "      <th>deck_level</th>\n",
       "    </tr>\n",
       "  </thead>\n",
       "  <tbody>\n",
       "    <tr>\n",
       "      <th>152</th>\n",
       "      <td>1044</td>\n",
       "      <td>3</td>\n",
       "      <td>Storey, Mr. Thomas</td>\n",
       "      <td>male</td>\n",
       "      <td>60.5</td>\n",
       "      <td>0</td>\n",
       "      <td>0</td>\n",
       "      <td>3701</td>\n",
       "      <td>NaN</td>\n",
       "      <td>S</td>\n",
       "      <td>U</td>\n",
       "    </tr>\n",
       "  </tbody>\n",
       "</table>\n",
       "</div>"
      ],
      "text/plain": [
       "     PassengerId  Pclass                Name   Sex   Age  SibSp  Parch Ticket  \\\n",
       "152         1044       3  Storey, Mr. Thomas  male  60.5      0      0   3701   \n",
       "\n",
       "     Fare Embarked deck_level  \n",
       "152   NaN        S          U  "
      ]
     },
     "execution_count": 31,
     "metadata": {},
     "output_type": "execute_result"
    }
   ],
   "source": [
    "test_df[test_df['Fare'].isnull()]"
   ]
  },
  {
   "cell_type": "markdown",
   "metadata": {},
   "source": [
    "* Can't tell much with this. We will use PClass (a strong predictor) to fill in the missing value"
   ]
  },
  {
   "cell_type": "code",
   "execution_count": 32,
   "metadata": {},
   "outputs": [
    {
     "name": "stdout",
     "output_type": "stream",
     "text": [
      "Mean Fare for each Pclass:\n"
     ]
    },
    {
     "data": {
      "text/plain": [
       "Pclass\n",
       "1    94.280297\n",
       "2    22.202104\n",
       "3    12.459678\n",
       "Name: Fare, dtype: float64"
      ]
     },
     "metadata": {},
     "output_type": "display_data"
    },
    {
     "name": "stdout",
     "output_type": "stream",
     "text": [
      "Median Fare for each Pclass:\n"
     ]
    },
    {
     "data": {
      "text/plain": [
       "Pclass\n",
       "1    60.0000\n",
       "2    15.7500\n",
       "3     7.8958\n",
       "Name: Fare, dtype: float64"
      ]
     },
     "metadata": {},
     "output_type": "display_data"
    },
    {
     "data": {
      "image/png": "[encoded data removed]",
      "text/plain": [
       "<Figure size 432x288 with 1 Axes>"
      ]
     },
     "metadata": {
      "needs_background": "light"
     },
     "output_type": "display_data"
    }
   ],
   "source": [
    "Pclass_Fare_grouping = test_df.groupby([\"Pclass\"])['Fare']\n",
    "train_df.groupby(['Pclass', pd.cut(train_df['Fare'], np.arange(0, 701, 5))]).size().unstack(0).plot.bar(stacked=True, title = 'Fare histogram grouped by Pclass')\n",
    "plt.xlabel('Fare')\n",
    "plt.ylabel('Frequency')\n",
    "print(\"Mean Fare for each Pclass:\")\n",
    "display(Pclass_Fare_grouping.mean())\n",
    "print(\"Median Fare for each Pclass:\")\n",
    "display(Pclass_Fare_grouping.median())"
   ]
  },
  {
   "cell_type": "markdown",
   "metadata": {},
   "source": [
    "* The tail for the Fare for Pclass 3 is a bit long so it's probably safer to fill with the median value for that Pclass.\n",
    "\n",
    "* All this work for one missing fare is overkill, but it's a good exercise in thinking about how to impute data"
   ]
  },
  {
   "cell_type": "code",
   "execution_count": 33,
   "metadata": {},
   "outputs": [
    {
     "data": {
      "text/html": [
       "<div>\n",
       "<style scoped>\n",
       "    .dataframe tbody tr th:only-of-type {\n",
       "        vertical-align: middle;\n",
       "    }\n",
       "\n",
       "    .dataframe tbody tr th {\n",
       "        vertical-align: top;\n",
       "    }\n",
       "\n",
       "    .dataframe thead th {\n",
       "        text-align: right;\n",
       "    }\n",
       "</style>\n",
       "<table border=\"1\" class=\"dataframe\">\n",
       "  <thead>\n",
       "    <tr style=\"text-align: right;\">\n",
       "      <th></th>\n",
       "      <th>PassengerId</th>\n",
       "      <th>Pclass</th>\n",
       "      <th>Name</th>\n",
       "      <th>Sex</th>\n",
       "      <th>Age</th>\n",
       "      <th>SibSp</th>\n",
       "      <th>Parch</th>\n",
       "      <th>Ticket</th>\n",
       "      <th>Fare</th>\n",
       "      <th>Embarked</th>\n",
       "      <th>deck_level</th>\n",
       "    </tr>\n",
       "  </thead>\n",
       "  <tbody>\n",
       "    <tr>\n",
       "      <th>152</th>\n",
       "      <td>1044</td>\n",
       "      <td>3</td>\n",
       "      <td>Storey, Mr. Thomas</td>\n",
       "      <td>male</td>\n",
       "      <td>60.5</td>\n",
       "      <td>0</td>\n",
       "      <td>0</td>\n",
       "      <td>3701</td>\n",
       "      <td>7.8958</td>\n",
       "      <td>S</td>\n",
       "      <td>U</td>\n",
       "    </tr>\n",
       "  </tbody>\n",
       "</table>\n",
       "</div>"
      ],
      "text/plain": [
       "     PassengerId  Pclass                Name   Sex   Age  SibSp  Parch Ticket  \\\n",
       "152         1044       3  Storey, Mr. Thomas  male  60.5      0      0   3701   \n",
       "\n",
       "       Fare Embarked deck_level  \n",
       "152  7.8958        S          U  "
      ]
     },
     "metadata": {},
     "output_type": "display_data"
    },
    {
     "data": {
      "text/plain": [
       "PassengerId     0\n",
       "Pclass          0\n",
       "Name            0\n",
       "Sex             0\n",
       "Age            86\n",
       "SibSp           0\n",
       "Parch           0\n",
       "Ticket          0\n",
       "Fare            0\n",
       "Embarked        0\n",
       "deck_level      0\n",
       "dtype: int64"
      ]
     },
     "metadata": {},
     "output_type": "display_data"
    }
   ],
   "source": [
    "test_df[['Fare']] = test_df[['Fare']].fillna(Pclass_Fare_grouping.median()[3])\n",
    "# Let's check that our one fill worked!\n",
    "display(test_df[test_df['PassengerId'] == 1044])\n",
    "display(test_df.isnull().sum())"
   ]
  },
  {
   "cell_type": "markdown",
   "metadata": {},
   "source": [
    "### Now, for the Age missing values. Quick Analysis"
   ]
  },
  {
   "cell_type": "code",
   "execution_count": 34,
   "metadata": {},
   "outputs": [
    {
     "data": {
      "image/png": "[encoded data removed]",
      "text/plain": [
       "<Figure size 432x288 with 1 Axes>"
      ]
     },
     "metadata": {
      "needs_background": "light"
     },
     "output_type": "display_data"
    }
   ],
   "source": [
    "ax = train_df[['Age']].plot(kind='hist', bins=20)\n",
    "plt.xlabel(\"Age\")\n",
    "_ = plt.title(\"Age histogram\")"
   ]
  },
  {
   "cell_type": "markdown",
   "metadata": {},
   "source": [
    "### Relationship between Age and Survival"
   ]
  },
  {
   "cell_type": "code",
   "execution_count": 35,
   "metadata": {},
   "outputs": [
    {
     "data": {
      "image/png": "[encoded data removed]",
      "text/plain": [
       "<Figure size 432x288 with 1 Axes>"
      ]
     },
     "metadata": {
      "needs_background": "light"
     },
     "output_type": "display_data"
    }
   ],
   "source": [
    "train_df.groupby(['Survived', pd.cut(train_df['Age'], np.arange(0, 100, 5))]).size().unstack(0).plot.bar(stacked=True, alpha=0.75)\n",
    "_ = plt.title(\"Age histogram grouped by survival\")"
   ]
  },
  {
   "cell_type": "markdown",
   "metadata": {},
   "source": [
    "* So an initial analysis shows that younger passengers ( < 6) were much more likely to survive than not.\n",
    "* Agewise, the worst outcomes were for folks in their late teens and early 20's.\n",
    "* Bad outcomes also for people between age ~24 and ~32 as well."
   ]
  },
  {
   "cell_type": "markdown",
   "metadata": {},
   "source": [
    "### Gender and Age for survival"
   ]
  },
  {
   "cell_type": "code",
   "execution_count": 36,
   "metadata": {},
   "outputs": [
    {
     "data": {
      "image/png": "[encoded data removed]",
      "text/plain": [
       "<Figure size 432x288 with 1 Axes>"
      ]
     },
     "metadata": {
      "needs_background": "light"
     },
     "output_type": "display_data"
    }
   ],
   "source": [
    "train_df.groupby(['Survived', 'Sex', pd.cut(train_df['Age'], np.arange(0, 100, 5))]).size().unstack(0).plot.bar(stacked=True, alpha=0.75)\n",
    "plt.title(\"Age histogram grouped by survival and gender\")\n",
    "plt.tight_layout()"
   ]
  },
  {
   "cell_type": "markdown",
   "metadata": {},
   "source": [
    "* This plot is a bit messy, but the left side shows pretty clearly that females had a high survival rate.\n",
    "\n",
    "* Looking at right side paints the opposite picture (with the exception if you were a male under 6, then youre survival chances were pretty good).\n",
    "\n",
    "* This quick set of observations seem to suggest that getting age right for young children is important for predicting survival.\n",
    "\n",
    "* One promising strategy to impute age that seems to work well in other kernels is to use the name title"
   ]
  },
  {
   "cell_type": "code",
   "execution_count": 39,
   "metadata": {},
   "outputs": [
    {
     "name": "stdout",
     "output_type": "stream",
     "text": [
      "Train set titles (and counts):\n",
      "Counter({'Mr': 517, 'Miss': 182, 'Mrs': 125, 'Master': 40, 'Dr': 7, 'Rev': 6, 'Major': 2, 'Mlle': 2, 'Col': 2, 'Don': 1, 'Mme': 1, 'Ms': 1, 'Lady': 1, 'Sir': 1, 'Capt': 1, 'the Countess': 1, 'Jonkheer': 1})\n",
      "\n",
      "Test set titles (and counts):\n",
      "Counter({'Mr': 240, 'Miss': 78, 'Mrs': 72, 'Master': 21, 'Col': 2, 'Rev': 2, 'Ms': 1, 'Dr': 1, 'Dona': 1})\n",
      "\n",
      "===============================\n",
      "\n",
      "Train set titles (and counts) with missing ages:\n",
      "Counter({'Mr': 119, 'Miss': 36, 'Mrs': 17, 'Master': 4, 'Dr': 1})\n",
      "\n",
      "Test set titles (and counts) with missing ages:\n",
      "Counter({'Mr': 57, 'Miss': 14, 'Mrs': 10, 'Master': 4, 'Ms': 1})\n"
     ]
    }
   ],
   "source": [
    "# All name formats seem to be something like:\n",
    "# \"last_name, title. first_name \"nickname\" (full_name)\"\n",
    "# To get title, we split the string by comma and select the second half. Then we split that second half by '.' and take the first half\n",
    "# i.e.\n",
    "# 1) [\"last_name\", \"title. first_name \"nickname\" (full_name)\"] (select element 1!)\n",
    "# 2) [\"title\", \"first_name \"nickname\" (full_name)\"] (select element 0!)\n",
    "train_titles = [name.split(',')[1].lstrip(' ').split('.')[0] for name in train_df['Name']]\n",
    "# Let's see if the above strategy works\n",
    "print(\"Train set titles (and counts):\")\n",
    "print(Counter(train_titles))\n",
    "\n",
    "print(\"\\nTest set titles (and counts):\")\n",
    "test_titles = [name.split(',')[1].lstrip(' ').split('.')[0] for name in test_df['Name']]\n",
    "print(Counter(test_titles))\n",
    "\n",
    "print(\"\\n===============================\")\n",
    "\n",
    "age_missing_train_titles = [name.split(',')[1].lstrip(' ').split('.')[0] for name in train_df[train_df['Age'].isnull()]['Name']]\n",
    "print(\"\\nTrain set titles (and counts) with missing ages:\")\n",
    "print(Counter(age_missing_train_titles))\n",
    "\n",
    "age_missing_test_titles = [name.split(',')[1].lstrip(' ').split('.')[0] for name in test_df[test_df['Age'].isnull()]['Name']]\n",
    "print(\"\\nTest set titles (and counts) with missing ages:\")\n",
    "print(Counter(age_missing_test_titles))"
   ]
  },
  {
   "cell_type": "markdown",
   "metadata": {},
   "source": [
    "### Add these list of titles to our dataframe"
   ]
  },
  {
   "cell_type": "code",
   "execution_count": 40,
   "metadata": {},
   "outputs": [
    {
     "data": {
      "text/html": [
       "<div>\n",
       "<style scoped>\n",
       "    .dataframe tbody tr th:only-of-type {\n",
       "        vertical-align: middle;\n",
       "    }\n",
       "\n",
       "    .dataframe tbody tr th {\n",
       "        vertical-align: top;\n",
       "    }\n",
       "\n",
       "    .dataframe thead th {\n",
       "        text-align: right;\n",
       "    }\n",
       "</style>\n",
       "<table border=\"1\" class=\"dataframe\">\n",
       "  <thead>\n",
       "    <tr style=\"text-align: right;\">\n",
       "      <th></th>\n",
       "      <th>PassengerId</th>\n",
       "      <th>Survived</th>\n",
       "      <th>Pclass</th>\n",
       "      <th>Name</th>\n",
       "      <th>Sex</th>\n",
       "      <th>Age</th>\n",
       "      <th>SibSp</th>\n",
       "      <th>Parch</th>\n",
       "      <th>Ticket</th>\n",
       "      <th>Fare</th>\n",
       "      <th>Embarked</th>\n",
       "      <th>deck_level</th>\n",
       "      <th>title</th>\n",
       "    </tr>\n",
       "  </thead>\n",
       "  <tbody>\n",
       "    <tr>\n",
       "      <th>0</th>\n",
       "      <td>1</td>\n",
       "      <td>0</td>\n",
       "      <td>3</td>\n",
       "      <td>Braund, Mr. Owen Harris</td>\n",
       "      <td>male</td>\n",
       "      <td>22.0</td>\n",
       "      <td>1</td>\n",
       "      <td>0</td>\n",
       "      <td>A/5 21171</td>\n",
       "      <td>7.2500</td>\n",
       "      <td>S</td>\n",
       "      <td>U</td>\n",
       "      <td>Mr</td>\n",
       "    </tr>\n",
       "    <tr>\n",
       "      <th>1</th>\n",
       "      <td>2</td>\n",
       "      <td>1</td>\n",
       "      <td>1</td>\n",
       "      <td>Cumings, Mrs. John Bradley (Florence Briggs Th...</td>\n",
       "      <td>female</td>\n",
       "      <td>38.0</td>\n",
       "      <td>1</td>\n",
       "      <td>0</td>\n",
       "      <td>PC 17599</td>\n",
       "      <td>71.2833</td>\n",
       "      <td>C</td>\n",
       "      <td>C</td>\n",
       "      <td>Mrs</td>\n",
       "    </tr>\n",
       "    <tr>\n",
       "      <th>2</th>\n",
       "      <td>3</td>\n",
       "      <td>1</td>\n",
       "      <td>3</td>\n",
       "      <td>Heikkinen, Miss. Laina</td>\n",
       "      <td>female</td>\n",
       "      <td>26.0</td>\n",
       "      <td>0</td>\n",
       "      <td>0</td>\n",
       "      <td>STON/O2. 3101282</td>\n",
       "      <td>7.9250</td>\n",
       "      <td>S</td>\n",
       "      <td>U</td>\n",
       "      <td>Miss</td>\n",
       "    </tr>\n",
       "    <tr>\n",
       "      <th>3</th>\n",
       "      <td>4</td>\n",
       "      <td>1</td>\n",
       "      <td>1</td>\n",
       "      <td>Futrelle, Mrs. Jacques Heath (Lily May Peel)</td>\n",
       "      <td>female</td>\n",
       "      <td>35.0</td>\n",
       "      <td>1</td>\n",
       "      <td>0</td>\n",
       "      <td>113803</td>\n",
       "      <td>53.1000</td>\n",
       "      <td>S</td>\n",
       "      <td>C</td>\n",
       "      <td>Mrs</td>\n",
       "    </tr>\n",
       "    <tr>\n",
       "      <th>4</th>\n",
       "      <td>5</td>\n",
       "      <td>0</td>\n",
       "      <td>3</td>\n",
       "      <td>Allen, Mr. William Henry</td>\n",
       "      <td>male</td>\n",
       "      <td>35.0</td>\n",
       "      <td>0</td>\n",
       "      <td>0</td>\n",
       "      <td>373450</td>\n",
       "      <td>8.0500</td>\n",
       "      <td>S</td>\n",
       "      <td>U</td>\n",
       "      <td>Mr</td>\n",
       "    </tr>\n",
       "  </tbody>\n",
       "</table>\n",
       "</div>"
      ],
      "text/plain": [
       "   PassengerId  Survived  Pclass  \\\n",
       "0            1         0       3   \n",
       "1            2         1       1   \n",
       "2            3         1       3   \n",
       "3            4         1       1   \n",
       "4            5         0       3   \n",
       "\n",
       "                                                Name     Sex   Age  SibSp  \\\n",
       "0                            Braund, Mr. Owen Harris    male  22.0      1   \n",
       "1  Cumings, Mrs. John Bradley (Florence Briggs Th...  female  38.0      1   \n",
       "2                             Heikkinen, Miss. Laina  female  26.0      0   \n",
       "3       Futrelle, Mrs. Jacques Heath (Lily May Peel)  female  35.0      1   \n",
       "4                           Allen, Mr. William Henry    male  35.0      0   \n",
       "\n",
       "   Parch            Ticket     Fare Embarked deck_level title  \n",
       "0      0         A/5 21171   7.2500        S          U    Mr  \n",
       "1      0          PC 17599  71.2833        C          C   Mrs  \n",
       "2      0  STON/O2. 3101282   7.9250        S          U  Miss  \n",
       "3      0            113803  53.1000        S          C   Mrs  \n",
       "4      0            373450   8.0500        S          U    Mr  "
      ]
     },
     "metadata": {},
     "output_type": "display_data"
    },
    {
     "data": {
      "text/html": [
       "<div>\n",
       "<style scoped>\n",
       "    .dataframe tbody tr th:only-of-type {\n",
       "        vertical-align: middle;\n",
       "    }\n",
       "\n",
       "    .dataframe tbody tr th {\n",
       "        vertical-align: top;\n",
       "    }\n",
       "\n",
       "    .dataframe thead th {\n",
       "        text-align: right;\n",
       "    }\n",
       "</style>\n",
       "<table border=\"1\" class=\"dataframe\">\n",
       "  <thead>\n",
       "    <tr style=\"text-align: right;\">\n",
       "      <th></th>\n",
       "      <th>PassengerId</th>\n",
       "      <th>Pclass</th>\n",
       "      <th>Name</th>\n",
       "      <th>Sex</th>\n",
       "      <th>Age</th>\n",
       "      <th>SibSp</th>\n",
       "      <th>Parch</th>\n",
       "      <th>Ticket</th>\n",
       "      <th>Fare</th>\n",
       "      <th>Embarked</th>\n",
       "      <th>deck_level</th>\n",
       "      <th>title</th>\n",
       "    </tr>\n",
       "  </thead>\n",
       "  <tbody>\n",
       "    <tr>\n",
       "      <th>0</th>\n",
       "      <td>892</td>\n",
       "      <td>3</td>\n",
       "      <td>Kelly, Mr. James</td>\n",
       "      <td>male</td>\n",
       "      <td>34.5</td>\n",
       "      <td>0</td>\n",
       "      <td>0</td>\n",
       "      <td>330911</td>\n",
       "      <td>7.8292</td>\n",
       "      <td>Q</td>\n",
       "      <td>U</td>\n",
       "      <td>Mr</td>\n",
       "    </tr>\n",
       "    <tr>\n",
       "      <th>1</th>\n",
       "      <td>893</td>\n",
       "      <td>3</td>\n",
       "      <td>Wilkes, Mrs. James (Ellen Needs)</td>\n",
       "      <td>female</td>\n",
       "      <td>47.0</td>\n",
       "      <td>1</td>\n",
       "      <td>0</td>\n",
       "      <td>363272</td>\n",
       "      <td>7.0000</td>\n",
       "      <td>S</td>\n",
       "      <td>U</td>\n",
       "      <td>Mrs</td>\n",
       "    </tr>\n",
       "    <tr>\n",
       "      <th>2</th>\n",
       "      <td>894</td>\n",
       "      <td>2</td>\n",
       "      <td>Myles, Mr. Thomas Francis</td>\n",
       "      <td>male</td>\n",
       "      <td>62.0</td>\n",
       "      <td>0</td>\n",
       "      <td>0</td>\n",
       "      <td>240276</td>\n",
       "      <td>9.6875</td>\n",
       "      <td>Q</td>\n",
       "      <td>U</td>\n",
       "      <td>Mr</td>\n",
       "    </tr>\n",
       "    <tr>\n",
       "      <th>3</th>\n",
       "      <td>895</td>\n",
       "      <td>3</td>\n",
       "      <td>Wirz, Mr. Albert</td>\n",
       "      <td>male</td>\n",
       "      <td>27.0</td>\n",
       "      <td>0</td>\n",
       "      <td>0</td>\n",
       "      <td>315154</td>\n",
       "      <td>8.6625</td>\n",
       "      <td>S</td>\n",
       "      <td>U</td>\n",
       "      <td>Mr</td>\n",
       "    </tr>\n",
       "    <tr>\n",
       "      <th>4</th>\n",
       "      <td>896</td>\n",
       "      <td>3</td>\n",
       "      <td>Hirvonen, Mrs. Alexander (Helga E Lindqvist)</td>\n",
       "      <td>female</td>\n",
       "      <td>22.0</td>\n",
       "      <td>1</td>\n",
       "      <td>1</td>\n",
       "      <td>3101298</td>\n",
       "      <td>12.2875</td>\n",
       "      <td>S</td>\n",
       "      <td>U</td>\n",
       "      <td>Mrs</td>\n",
       "    </tr>\n",
       "  </tbody>\n",
       "</table>\n",
       "</div>"
      ],
      "text/plain": [
       "   PassengerId  Pclass                                          Name     Sex  \\\n",
       "0          892       3                              Kelly, Mr. James    male   \n",
       "1          893       3              Wilkes, Mrs. James (Ellen Needs)  female   \n",
       "2          894       2                     Myles, Mr. Thomas Francis    male   \n",
       "3          895       3                              Wirz, Mr. Albert    male   \n",
       "4          896       3  Hirvonen, Mrs. Alexander (Helga E Lindqvist)  female   \n",
       "\n",
       "    Age  SibSp  Parch   Ticket     Fare Embarked deck_level title  \n",
       "0  34.5      0      0   330911   7.8292        Q          U    Mr  \n",
       "1  47.0      1      0   363272   7.0000        S          U   Mrs  \n",
       "2  62.0      0      0   240276   9.6875        Q          U    Mr  \n",
       "3  27.0      0      0   315154   8.6625        S          U    Mr  \n",
       "4  22.0      1      1  3101298  12.2875        S          U   Mrs  "
      ]
     },
     "metadata": {},
     "output_type": "display_data"
    }
   ],
   "source": [
    "# Let's add the titles as a new feature for our dataset\n",
    "def naive_process_title(train_test_lst):\n",
    "    new = []\n",
    "    for dataset in train_test_lst:\n",
    "        dataset = dataset.copy(deep=True)\n",
    "        titles = [name.split(',')[1].lstrip(' ').split('.')[0] for name in dataset['Name']]\n",
    "        dataset = dataset.assign(title=pd.Series(titles).values)\n",
    "        new.append(dataset)\n",
    "    return (new)\n",
    "\n",
    "train_df, test_df = naive_process_title([train_df, test_df])\n",
    "\n",
    "# Taking a look at our dataframes to make sure we did the right thing...\n",
    "display(train_df.head())\n",
    "display(test_df.head())"
   ]
  },
  {
   "cell_type": "markdown",
   "metadata": {},
   "source": [
    "### Study the relationship between age and title"
   ]
  },
  {
   "cell_type": "code",
   "execution_count": 41,
   "metadata": {},
   "outputs": [],
   "source": [
    "def plot_title_age_hist(title, train_df, bins=20):\n",
    "    title_ages = train_df[train_df['title'] == title]['Age']\n",
    "    title_ages.plot(kind='hist', bins=bins, legend=True)\n",
    "    title_ages.describe()\n",
    "    plt.xlabel(\"Age\")\n",
    "    plt.title(\"Age histogram for '{}' title\".format(title))"
   ]
  },
  {
   "cell_type": "code",
   "execution_count": 42,
   "metadata": {},
   "outputs": [
    {
     "data": {
      "text/html": [
       "<div>\n",
       "<style scoped>\n",
       "    .dataframe tbody tr th:only-of-type {\n",
       "        vertical-align: middle;\n",
       "    }\n",
       "\n",
       "    .dataframe tbody tr th {\n",
       "        vertical-align: top;\n",
       "    }\n",
       "\n",
       "    .dataframe thead th {\n",
       "        text-align: right;\n",
       "    }\n",
       "</style>\n",
       "<table border=\"1\" class=\"dataframe\">\n",
       "  <thead>\n",
       "    <tr style=\"text-align: right;\">\n",
       "      <th></th>\n",
       "      <th>count</th>\n",
       "      <th>mean</th>\n",
       "      <th>std</th>\n",
       "      <th>min</th>\n",
       "      <th>25%</th>\n",
       "      <th>50%</th>\n",
       "      <th>75%</th>\n",
       "      <th>max</th>\n",
       "    </tr>\n",
       "    <tr>\n",
       "      <th>title</th>\n",
       "      <th></th>\n",
       "      <th></th>\n",
       "      <th></th>\n",
       "      <th></th>\n",
       "      <th></th>\n",
       "      <th></th>\n",
       "      <th></th>\n",
       "      <th></th>\n",
       "    </tr>\n",
       "  </thead>\n",
       "  <tbody>\n",
       "    <tr>\n",
       "      <th>Capt</th>\n",
       "      <td>1.0</td>\n",
       "      <td>70.000000</td>\n",
       "      <td>NaN</td>\n",
       "      <td>70.00</td>\n",
       "      <td>70.000</td>\n",
       "      <td>70.0</td>\n",
       "      <td>70.00</td>\n",
       "      <td>70.0</td>\n",
       "    </tr>\n",
       "    <tr>\n",
       "      <th>Col</th>\n",
       "      <td>2.0</td>\n",
       "      <td>58.000000</td>\n",
       "      <td>2.828427</td>\n",
       "      <td>56.00</td>\n",
       "      <td>57.000</td>\n",
       "      <td>58.0</td>\n",
       "      <td>59.00</td>\n",
       "      <td>60.0</td>\n",
       "    </tr>\n",
       "    <tr>\n",
       "      <th>Don</th>\n",
       "      <td>1.0</td>\n",
       "      <td>40.000000</td>\n",
       "      <td>NaN</td>\n",
       "      <td>40.00</td>\n",
       "      <td>40.000</td>\n",
       "      <td>40.0</td>\n",
       "      <td>40.00</td>\n",
       "      <td>40.0</td>\n",
       "    </tr>\n",
       "    <tr>\n",
       "      <th>Dr</th>\n",
       "      <td>6.0</td>\n",
       "      <td>42.000000</td>\n",
       "      <td>12.016655</td>\n",
       "      <td>23.00</td>\n",
       "      <td>35.000</td>\n",
       "      <td>46.5</td>\n",
       "      <td>49.75</td>\n",
       "      <td>54.0</td>\n",
       "    </tr>\n",
       "    <tr>\n",
       "      <th>Jonkheer</th>\n",
       "      <td>1.0</td>\n",
       "      <td>38.000000</td>\n",
       "      <td>NaN</td>\n",
       "      <td>38.00</td>\n",
       "      <td>38.000</td>\n",
       "      <td>38.0</td>\n",
       "      <td>38.00</td>\n",
       "      <td>38.0</td>\n",
       "    </tr>\n",
       "    <tr>\n",
       "      <th>Lady</th>\n",
       "      <td>1.0</td>\n",
       "      <td>48.000000</td>\n",
       "      <td>NaN</td>\n",
       "      <td>48.00</td>\n",
       "      <td>48.000</td>\n",
       "      <td>48.0</td>\n",
       "      <td>48.00</td>\n",
       "      <td>48.0</td>\n",
       "    </tr>\n",
       "    <tr>\n",
       "      <th>Major</th>\n",
       "      <td>2.0</td>\n",
       "      <td>48.500000</td>\n",
       "      <td>4.949747</td>\n",
       "      <td>45.00</td>\n",
       "      <td>46.750</td>\n",
       "      <td>48.5</td>\n",
       "      <td>50.25</td>\n",
       "      <td>52.0</td>\n",
       "    </tr>\n",
       "    <tr>\n",
       "      <th>Master</th>\n",
       "      <td>36.0</td>\n",
       "      <td>4.574167</td>\n",
       "      <td>3.619872</td>\n",
       "      <td>0.42</td>\n",
       "      <td>1.000</td>\n",
       "      <td>3.5</td>\n",
       "      <td>8.00</td>\n",
       "      <td>12.0</td>\n",
       "    </tr>\n",
       "    <tr>\n",
       "      <th>Miss</th>\n",
       "      <td>146.0</td>\n",
       "      <td>21.773973</td>\n",
       "      <td>12.990292</td>\n",
       "      <td>0.75</td>\n",
       "      <td>14.125</td>\n",
       "      <td>21.0</td>\n",
       "      <td>30.00</td>\n",
       "      <td>63.0</td>\n",
       "    </tr>\n",
       "    <tr>\n",
       "      <th>Mlle</th>\n",
       "      <td>2.0</td>\n",
       "      <td>24.000000</td>\n",
       "      <td>0.000000</td>\n",
       "      <td>24.00</td>\n",
       "      <td>24.000</td>\n",
       "      <td>24.0</td>\n",
       "      <td>24.00</td>\n",
       "      <td>24.0</td>\n",
       "    </tr>\n",
       "    <tr>\n",
       "      <th>Mme</th>\n",
       "      <td>1.0</td>\n",
       "      <td>24.000000</td>\n",
       "      <td>NaN</td>\n",
       "      <td>24.00</td>\n",
       "      <td>24.000</td>\n",
       "      <td>24.0</td>\n",
       "      <td>24.00</td>\n",
       "      <td>24.0</td>\n",
       "    </tr>\n",
       "    <tr>\n",
       "      <th>Mr</th>\n",
       "      <td>398.0</td>\n",
       "      <td>32.368090</td>\n",
       "      <td>12.708793</td>\n",
       "      <td>11.00</td>\n",
       "      <td>23.000</td>\n",
       "      <td>30.0</td>\n",
       "      <td>39.00</td>\n",
       "      <td>80.0</td>\n",
       "    </tr>\n",
       "    <tr>\n",
       "      <th>Mrs</th>\n",
       "      <td>108.0</td>\n",
       "      <td>35.898148</td>\n",
       "      <td>11.433628</td>\n",
       "      <td>14.00</td>\n",
       "      <td>27.750</td>\n",
       "      <td>35.0</td>\n",
       "      <td>44.00</td>\n",
       "      <td>63.0</td>\n",
       "    </tr>\n",
       "    <tr>\n",
       "      <th>Ms</th>\n",
       "      <td>1.0</td>\n",
       "      <td>28.000000</td>\n",
       "      <td>NaN</td>\n",
       "      <td>28.00</td>\n",
       "      <td>28.000</td>\n",
       "      <td>28.0</td>\n",
       "      <td>28.00</td>\n",
       "      <td>28.0</td>\n",
       "    </tr>\n",
       "    <tr>\n",
       "      <th>Rev</th>\n",
       "      <td>6.0</td>\n",
       "      <td>43.166667</td>\n",
       "      <td>13.136463</td>\n",
       "      <td>27.00</td>\n",
       "      <td>31.500</td>\n",
       "      <td>46.5</td>\n",
       "      <td>53.25</td>\n",
       "      <td>57.0</td>\n",
       "    </tr>\n",
       "    <tr>\n",
       "      <th>Sir</th>\n",
       "      <td>1.0</td>\n",
       "      <td>49.000000</td>\n",
       "      <td>NaN</td>\n",
       "      <td>49.00</td>\n",
       "      <td>49.000</td>\n",
       "      <td>49.0</td>\n",
       "      <td>49.00</td>\n",
       "      <td>49.0</td>\n",
       "    </tr>\n",
       "    <tr>\n",
       "      <th>the Countess</th>\n",
       "      <td>1.0</td>\n",
       "      <td>33.000000</td>\n",
       "      <td>NaN</td>\n",
       "      <td>33.00</td>\n",
       "      <td>33.000</td>\n",
       "      <td>33.0</td>\n",
       "      <td>33.00</td>\n",
       "      <td>33.0</td>\n",
       "    </tr>\n",
       "  </tbody>\n",
       "</table>\n",
       "</div>"
      ],
      "text/plain": [
       "              count       mean        std    min     25%   50%    75%   max\n",
       "title                                                                      \n",
       "Capt            1.0  70.000000        NaN  70.00  70.000  70.0  70.00  70.0\n",
       "Col             2.0  58.000000   2.828427  56.00  57.000  58.0  59.00  60.0\n",
       "Don             1.0  40.000000        NaN  40.00  40.000  40.0  40.00  40.0\n",
       "Dr              6.0  42.000000  12.016655  23.00  35.000  46.5  49.75  54.0\n",
       "Jonkheer        1.0  38.000000        NaN  38.00  38.000  38.0  38.00  38.0\n",
       "Lady            1.0  48.000000        NaN  48.00  48.000  48.0  48.00  48.0\n",
       "Major           2.0  48.500000   4.949747  45.00  46.750  48.5  50.25  52.0\n",
       "Master         36.0   4.574167   3.619872   0.42   1.000   3.5   8.00  12.0\n",
       "Miss          146.0  21.773973  12.990292   0.75  14.125  21.0  30.00  63.0\n",
       "Mlle            2.0  24.000000   0.000000  24.00  24.000  24.0  24.00  24.0\n",
       "Mme             1.0  24.000000        NaN  24.00  24.000  24.0  24.00  24.0\n",
       "Mr            398.0  32.368090  12.708793  11.00  23.000  30.0  39.00  80.0\n",
       "Mrs           108.0  35.898148  11.433628  14.00  27.750  35.0  44.00  63.0\n",
       "Ms              1.0  28.000000        NaN  28.00  28.000  28.0  28.00  28.0\n",
       "Rev             6.0  43.166667  13.136463  27.00  31.500  46.5  53.25  57.0\n",
       "Sir             1.0  49.000000        NaN  49.00  49.000  49.0  49.00  49.0\n",
       "the Countess    1.0  33.000000        NaN  33.00  33.000  33.0  33.00  33.0"
      ]
     },
     "metadata": {},
     "output_type": "display_data"
    },
    {
     "data": {
      "image/png": "[encoded data removed]",
      "text/plain": [
       "<Figure size 432x288 with 1 Axes>"
      ]
     },
     "metadata": {
      "needs_background": "light"
     },
     "output_type": "display_data"
    }
   ],
   "source": [
    "title_groups = train_df.groupby(['title'])\n",
    "display(title_groups['Age'].describe())\n",
    "plot_title_age_hist(\"Master\", train_df, bins=10)"
   ]
  },
  {
   "cell_type": "markdown",
   "metadata": {},
   "source": [
    "* 'Master' is for youngsters"
   ]
  },
  {
   "cell_type": "code",
   "execution_count": 43,
   "metadata": {},
   "outputs": [
    {
     "data": {
      "image/png": "[encoded data removed]",
      "text/plain": [
       "<Figure size 432x288 with 1 Axes>"
      ]
     },
     "metadata": {
      "needs_background": "light"
     },
     "output_type": "display_data"
    }
   ],
   "source": [
    "plot_title_age_hist('Miss', train_df)"
   ]
  },
  {
   "cell_type": "markdown",
   "metadata": {},
   "source": [
    "* Miss looks like the corresponding title, but it can take on a much much larger variation of values"
   ]
  },
  {
   "cell_type": "markdown",
   "metadata": {},
   "source": [
    "### Let's see if we can get more specific ages to impute for the \"miss\" title by using the 'Parch' feature"
   ]
  },
  {
   "cell_type": "code",
   "execution_count": 44,
   "metadata": {},
   "outputs": [
    {
     "name": "stdout",
     "output_type": "stream",
     "text": [
      "Statistics for 'Miss' title with Parch of: 0\n"
     ]
    },
    {
     "data": {
      "text/plain": [
       "count    91.000000\n",
       "mean     27.763736\n",
       "std      11.048716\n",
       "min       5.000000\n",
       "25%      20.000000\n",
       "50%      26.000000\n",
       "75%      32.750000\n",
       "max      63.000000\n",
       "Name: Age, dtype: float64"
      ]
     },
     "metadata": {},
     "output_type": "display_data"
    },
    {
     "name": "stdout",
     "output_type": "stream",
     "text": [
      "Median\t26.0\n",
      "\n",
      "=========================\n",
      "\n",
      "Statistics for 'Miss' title with Parch of: 1\n"
     ]
    },
    {
     "data": {
      "text/plain": [
       "count    24.000000\n",
       "mean      9.895833\n",
       "std       9.616256\n",
       "min       0.750000\n",
       "25%       2.750000\n",
       "50%       5.500000\n",
       "75%      16.000000\n",
       "max      39.000000\n",
       "Name: Age, dtype: float64"
      ]
     },
     "metadata": {},
     "output_type": "display_data"
    },
    {
     "name": "stdout",
     "output_type": "stream",
     "text": [
      "Median\t5.5\n",
      "\n",
      "=========================\n",
      "\n",
      "Statistics for 'Miss' title with Parch of: 2\n"
     ]
    },
    {
     "data": {
      "text/plain": [
       "count    31.000000\n",
       "mean     13.387097\n",
       "std       9.171250\n",
       "min       1.000000\n",
       "25%       5.500000\n",
       "50%      11.000000\n",
       "75%      20.000000\n",
       "max      36.000000\n",
       "Name: Age, dtype: float64"
      ]
     },
     "metadata": {},
     "output_type": "display_data"
    },
    {
     "name": "stdout",
     "output_type": "stream",
     "text": [
      "Median\t11.0\n",
      "\n",
      "=========================\n",
      "\n"
     ]
    },
    {
     "data": {
      "image/png": "[encoded data removed]",
      "text/plain": [
       "<Figure size 432x288 with 1 Axes>"
      ]
     },
     "metadata": {
      "needs_background": "light"
     },
     "output_type": "display_data"
    }
   ],
   "source": [
    "def title_feature_age_analysis(title, feature, train_df):\n",
    "    # Let's loop through all values of our feature of interest (in this case \"Parch\")\n",
    "    title_df =train_df[(train_df['title'] == title)]\n",
    "    title_df.groupby([feature, pd.cut(title_df['Age'], np.arange(0, 100, 5))]).size().unstack(0).plot.bar(stacked=True, alpha=0.75)\n",
    "    plt.xlabel(\"Age\")\n",
    "    plt.ylabel(\"Frequency\")\n",
    "    _ = plt.title(\"Age histogram for '{}' title grouped by {}\".format(title, feature))\n",
    "    for i in range(max(train_df[train_df['title'] == title][feature]) + 1):\n",
    "        # Print common descriptive stats for our title and the given level of our feature\n",
    "        print(\"Statistics for '{}' title with {} of: {}\".format(title, feature, i))\n",
    "        display(train_df[(train_df['title'] == title) & (train_df[feature] == i)]['Age'].describe())\n",
    "        print(\"Median\\t{}\\n\".format(train_df[(train_df['title'] == title) & (train_df[feature] == i)]['Age'].median()))\n",
    "        print(\"=========================\\n\")\n",
    "\n",
    "title_feature_age_analysis('Miss', 'Parch', train_df)"
   ]
  },
  {
   "cell_type": "markdown",
   "metadata": {},
   "source": [
    "### Great. A parch of 1 or 2 together with the 'Miss' title seems to be quite indicative of younger age! Does our finding in the train dataset hold up in the test dataset?"
   ]
  },
  {
   "cell_type": "code",
   "execution_count": 45,
   "metadata": {},
   "outputs": [
    {
     "name": "stdout",
     "output_type": "stream",
     "text": [
      "Statistics for 'Miss' title with Parch of: 0\n"
     ]
    },
    {
     "data": {
      "text/plain": [
       "count    43.000000\n",
       "mean     26.058140\n",
       "std       7.204669\n",
       "min      12.000000\n",
       "25%      20.500000\n",
       "50%      24.000000\n",
       "75%      30.500000\n",
       "max      45.000000\n",
       "Name: Age, dtype: float64"
      ]
     },
     "metadata": {},
     "output_type": "display_data"
    },
    {
     "name": "stdout",
     "output_type": "stream",
     "text": [
      "Median\t24.0\n",
      "\n",
      "=========================\n",
      "\n",
      "Statistics for 'Miss' title with Parch of: 1\n"
     ]
    },
    {
     "data": {
      "text/plain": [
       "count    13.000000\n",
       "mean     12.000000\n",
       "std       8.436034\n",
       "min       1.000000\n",
       "25%       3.000000\n",
       "50%      12.000000\n",
       "75%      20.000000\n",
       "max      22.000000\n",
       "Name: Age, dtype: float64"
      ]
     },
     "metadata": {},
     "output_type": "display_data"
    },
    {
     "name": "stdout",
     "output_type": "stream",
     "text": [
      "Median\t12.0\n",
      "\n",
      "=========================\n",
      "\n",
      "Statistics for 'Miss' title with Parch of: 2\n"
     ]
    },
    {
     "data": {
      "text/plain": [
       "count     8.000000\n",
       "mean     14.636250\n",
       "std      14.228326\n",
       "min       0.170000\n",
       "25%       0.980000\n",
       "50%      12.500000\n",
       "75%      25.000000\n",
       "max      38.000000\n",
       "Name: Age, dtype: float64"
      ]
     },
     "metadata": {},
     "output_type": "display_data"
    },
    {
     "name": "stdout",
     "output_type": "stream",
     "text": [
      "Median\t12.5\n",
      "\n",
      "=========================\n",
      "\n"
     ]
    },
    {
     "data": {
      "image/png": "[encoded data removed]",
      "text/plain": [
       "<Figure size 432x288 with 1 Axes>"
      ]
     },
     "metadata": {
      "needs_background": "light"
     },
     "output_type": "display_data"
    }
   ],
   "source": [
    "title_feature_age_analysis('Miss', 'Parch', test_df)"
   ]
  },
  {
   "cell_type": "markdown",
   "metadata": {},
   "source": [
    "### Besides 'Miss' and 'Master' we'll also have to fill many more missing ages with 'Mr' and 'Mrs'. Let's see if we can use Parch to help us out again"
   ]
  },
  {
   "cell_type": "code",
   "execution_count": 48,
   "metadata": {},
   "outputs": [
    {
     "name": "stdout",
     "output_type": "stream",
     "text": [
      "Statistics for 'Mrs' title with Parch of: 0\n"
     ]
    },
    {
     "data": {
      "text/plain": [
       "count    55.000000\n",
       "mean     35.472727\n",
       "std      12.762582\n",
       "min      14.000000\n",
       "25%      27.500000\n",
       "50%      35.000000\n",
       "75%      44.000000\n",
       "max      63.000000\n",
       "Name: Age, dtype: float64"
      ]
     },
     "metadata": {},
     "output_type": "display_data"
    },
    {
     "name": "stdout",
     "output_type": "stream",
     "text": [
      "Median\t35.0\n",
      "\n",
      "=========================\n",
      "\n",
      "Statistics for 'Mrs' title with Parch of: 1\n"
     ]
    },
    {
     "data": {
      "text/plain": [
       "count    31.000000\n",
       "mean     37.419355\n",
       "std      10.346575\n",
       "min      18.000000\n",
       "25%      29.500000\n",
       "50%      39.000000\n",
       "75%      45.000000\n",
       "max      58.000000\n",
       "Name: Age, dtype: float64"
      ]
     },
     "metadata": {},
     "output_type": "display_data"
    },
    {
     "name": "stdout",
     "output_type": "stream",
     "text": [
      "Median\t39.0\n",
      "\n",
      "=========================\n",
      "\n",
      "Statistics for 'Mrs' title with Parch of: 2\n"
     ]
    },
    {
     "data": {
      "text/plain": [
       "count    11.000000\n",
       "mean     31.090909\n",
       "std       8.104993\n",
       "min      22.000000\n",
       "25%      24.500000\n",
       "50%      29.000000\n",
       "75%      34.500000\n",
       "max      48.000000\n",
       "Name: Age, dtype: float64"
      ]
     },
     "metadata": {},
     "output_type": "display_data"
    },
    {
     "name": "stdout",
     "output_type": "stream",
     "text": [
      "Median\t29.0\n",
      "\n",
      "=========================\n",
      "\n",
      "Statistics for 'Mrs' title with Parch of: 3\n"
     ]
    },
    {
     "data": {
      "text/plain": [
       "count     4.000000\n",
       "mean     37.500000\n",
       "std      15.779734\n",
       "min      24.000000\n",
       "25%      24.000000\n",
       "50%      36.000000\n",
       "75%      49.500000\n",
       "max      54.000000\n",
       "Name: Age, dtype: float64"
      ]
     },
     "metadata": {},
     "output_type": "display_data"
    },
    {
     "name": "stdout",
     "output_type": "stream",
     "text": [
      "Median\t36.0\n",
      "\n",
      "=========================\n",
      "\n",
      "Statistics for 'Mrs' title with Parch of: 4\n"
     ]
    },
    {
     "data": {
      "text/plain": [
       "count     2.000000\n",
       "mean     37.000000\n",
       "std      11.313708\n",
       "min      29.000000\n",
       "25%      33.000000\n",
       "50%      37.000000\n",
       "75%      41.000000\n",
       "max      45.000000\n",
       "Name: Age, dtype: float64"
      ]
     },
     "metadata": {},
     "output_type": "display_data"
    },
    {
     "name": "stdout",
     "output_type": "stream",
     "text": [
      "Median\t37.0\n",
      "\n",
      "=========================\n",
      "\n",
      "Statistics for 'Mrs' title with Parch of: 5\n"
     ]
    },
    {
     "data": {
      "text/plain": [
       "count     4.000000\n",
       "mean     39.250000\n",
       "std       1.258306\n",
       "min      38.000000\n",
       "25%      38.750000\n",
       "50%      39.000000\n",
       "75%      39.500000\n",
       "max      41.000000\n",
       "Name: Age, dtype: float64"
      ]
     },
     "metadata": {},
     "output_type": "display_data"
    },
    {
     "name": "stdout",
     "output_type": "stream",
     "text": [
      "Median\t39.0\n",
      "\n",
      "=========================\n",
      "\n",
      "Statistics for 'Mrs' title with Parch of: 6\n"
     ]
    },
    {
     "data": {
      "text/plain": [
       "count     1.0\n",
       "mean     43.0\n",
       "std       NaN\n",
       "min      43.0\n",
       "25%      43.0\n",
       "50%      43.0\n",
       "75%      43.0\n",
       "max      43.0\n",
       "Name: Age, dtype: float64"
      ]
     },
     "metadata": {},
     "output_type": "display_data"
    },
    {
     "name": "stdout",
     "output_type": "stream",
     "text": [
      "Median\t43.0\n",
      "\n",
      "=========================\n",
      "\n"
     ]
    },
    {
     "data": {
      "image/png": "[encoded data removed]",
      "text/plain": [
       "<Figure size 432x288 with 1 Axes>"
      ]
     },
     "metadata": {
      "needs_background": "light"
     },
     "output_type": "display_data"
    }
   ],
   "source": [
    "title_feature_age_analysis('Mrs', \"Parch\", train_df)"
   ]
  },
  {
   "cell_type": "code",
   "execution_count": 49,
   "metadata": {},
   "outputs": [
    {
     "name": "stdout",
     "output_type": "stream",
     "text": [
      "Statistics for 'Mr' title with Parch of: 0\n"
     ]
    },
    {
     "data": {
      "text/plain": [
       "count    350.000000\n",
       "mean      32.204286\n",
       "std       12.438000\n",
       "min       11.000000\n",
       "25%       23.000000\n",
       "50%       29.000000\n",
       "75%       38.000000\n",
       "max       80.000000\n",
       "Name: Age, dtype: float64"
      ]
     },
     "metadata": {},
     "output_type": "display_data"
    },
    {
     "name": "stdout",
     "output_type": "stream",
     "text": [
      "Median\t29.0\n",
      "\n",
      "=========================\n",
      "\n",
      "Statistics for 'Mr' title with Parch of: 1\n"
     ]
    },
    {
     "data": {
      "text/plain": [
       "count    33.000000\n",
       "mean     33.848485\n",
       "std      14.826330\n",
       "min      14.000000\n",
       "25%      20.000000\n",
       "50%      34.000000\n",
       "75%      43.000000\n",
       "max      65.000000\n",
       "Name: Age, dtype: float64"
      ]
     },
     "metadata": {},
     "output_type": "display_data"
    },
    {
     "name": "stdout",
     "output_type": "stream",
     "text": [
      "Median\t34.0\n",
      "\n",
      "=========================\n",
      "\n",
      "Statistics for 'Mr' title with Parch of: 2\n"
     ]
    },
    {
     "data": {
      "text/plain": [
       "count    11.000000\n",
       "mean     30.454545\n",
       "std      12.657912\n",
       "min      14.000000\n",
       "25%      22.000000\n",
       "50%      27.000000\n",
       "75%      36.250000\n",
       "max      58.000000\n",
       "Name: Age, dtype: float64"
      ]
     },
     "metadata": {},
     "output_type": "display_data"
    },
    {
     "name": "stdout",
     "output_type": "stream",
     "text": [
      "Median\t27.0\n",
      "\n",
      "=========================\n",
      "\n",
      "Statistics for 'Mr' title with Parch of: 3\n"
     ]
    },
    {
     "data": {
      "text/plain": [
       "count     1.0\n",
       "mean     16.0\n",
       "std       NaN\n",
       "min      16.0\n",
       "25%      16.0\n",
       "50%      16.0\n",
       "75%      16.0\n",
       "max      16.0\n",
       "Name: Age, dtype: float64"
      ]
     },
     "metadata": {},
     "output_type": "display_data"
    },
    {
     "name": "stdout",
     "output_type": "stream",
     "text": [
      "Median\t16.0\n",
      "\n",
      "=========================\n",
      "\n",
      "Statistics for 'Mr' title with Parch of: 4\n"
     ]
    },
    {
     "data": {
      "text/plain": [
       "count     2.000000\n",
       "mean     52.000000\n",
       "std      16.970563\n",
       "min      40.000000\n",
       "25%      46.000000\n",
       "50%      52.000000\n",
       "75%      58.000000\n",
       "max      64.000000\n",
       "Name: Age, dtype: float64"
      ]
     },
     "metadata": {},
     "output_type": "display_data"
    },
    {
     "name": "stdout",
     "output_type": "stream",
     "text": [
      "Median\t52.0\n",
      "\n",
      "=========================\n",
      "\n",
      "Statistics for 'Mr' title with Parch of: 5\n"
     ]
    },
    {
     "data": {
      "text/plain": [
       "count     1.0\n",
       "mean     39.0\n",
       "std       NaN\n",
       "min      39.0\n",
       "25%      39.0\n",
       "50%      39.0\n",
       "75%      39.0\n",
       "max      39.0\n",
       "Name: Age, dtype: float64"
      ]
     },
     "metadata": {},
     "output_type": "display_data"
    },
    {
     "name": "stdout",
     "output_type": "stream",
     "text": [
      "Median\t39.0\n",
      "\n",
      "=========================\n",
      "\n"
     ]
    },
    {
     "data": {
      "image/png": "[encoded data removed]",
      "text/plain": [
       "<Figure size 432x288 with 1 Axes>"
      ]
     },
     "metadata": {
      "needs_background": "light"
     },
     "output_type": "display_data"
    }
   ],
   "source": [
    "title_feature_age_analysis('Mr', \"Parch\", train_df)"
   ]
  },
  {
   "cell_type": "markdown",
   "metadata": {},
   "source": [
    "* So it looks like \"Parch\" is not super helpful for narrowing the age of 'Mr' and 'Mrs' titles. Let's try using the median to fill these titles, BUT!"
   ]
  },
  {
   "cell_type": "code",
   "execution_count": 50,
   "metadata": {},
   "outputs": [],
   "source": [
    "# Code to fill in missing NaN datapoints based on title analysis. No longer used but it's here for those interested in using it.\n",
    "# def age_imputer(train_test_lst):\n",
    "#     new = []\n",
    "#     for dataset in train_test_lst:\n",
    "#         dataset = dataset.copy(deep=True)\n",
    "#         # This is the list of unique titles for individuals with a NaN age\n",
    "#         missing_age_titles = list(set([name.split(',')[1].lstrip(' ').split('.')[0] for name in dataset[dataset['Age'].isnull()]['Name']]))\n",
    "#         print(\"Titles for individuals with missing age are: {}\".format(missing_age_titles))\n",
    "#         for title in missing_age_titles:\n",
    "#             # Fill in missing ages for 'Mr'/'Mrs'/'Master'/'Ms'/'Dr' titles\n",
    "#             if (title in ['Mr', 'Mrs', 'Master', 'Ms', 'Dr']):\n",
    "#                 median = dataset[(dataset['title'] == title)]['Age'].median()\n",
    "#                 # Treat 'Ms' as 'Mrs'\n",
    "#                 if (title == 'Ms'):\n",
    "#                     median = dataset[(dataset['title'] == 'Mrs')]['Age'].median()\n",
    "#                 dataset[(dataset['title'] == title) & (dataset['Age'].isnull())] = dataset[(dataset['title'] == title) & (dataset['Age'].isnull())].fillna(median)\n",
    "#             # Fill in missing ages for \"Miss\" titles\n",
    "#             elif (title == 'Miss'):\n",
    "#                 for level in range(max(dataset[dataset['title'] == title]['Parch']) + 1):\n",
    "#                     df = dataset[(dataset['title'] == 'Miss') & (dataset['Age'].isnull()) & (dataset['Parch'] == level)]\n",
    "#                     if (not df.empty):\n",
    "#                         median = dataset[(dataset['title'] == title) & (dataset['Parch'] == level)]['Age'].median()\n",
    "#                         dataset[(dataset['title'] == 'Miss') & (dataset['Age'].isnull()) & (dataset['Parch'] == level)] = dataset[(dataset['title'] == 'Miss') & (dataset['Age'].isnull()) & (dataset['Parch'] == level)].fillna(median)\n",
    "#         new.append(dataset)\n",
    "#     return (new)\n",
    "\n",
    "# train_df, test_df = age_imputer([train_df, test_df])\n",
    "\n",
    "# display(train_df.isnull().sum())\n",
    "# display(test_df.isnull().sum())\n",
    "\n",
    "\n",
    "# Looks like all the NaNs got filled in. But we should do some sanity checks to verify that things got filled in correctly.\n",
    "\n",
    "# display(raw_train_df[raw_train_df['Age'].isnull()])\n",
    "\n",
    "# # Select passengers that have NaN ages in our raw_train_df\n",
    "# train_df.loc[train_df['PassengerId'].isin(raw_train_df[raw_train_df['Age'].isnull()]['PassengerId'])]\n",
    "\n",
    "# new distribution\n",
    "# fig, (ax1, ax2) = plt.subplots(1, 2)\n",
    "# # First column plot\n",
    "# train_df[['Age']].plot(kind='hist', bins=20, ax=ax1, legend=False)\n",
    "# ax1.set_xlabel(\"Age\")\n",
    "# ax1.set_title(\"NaN filled\")\n",
    "# ymin, ymax = ax1.get_ylim()\n",
    "# # Second column plot\n",
    "# raw_train_df[['Age']].plot(kind='hist', bins=20, ax=ax2, sharey=True, legend=False)\n",
    "# ax2.set_ylim(ymin, ymax)\n",
    "# ax2.set_xlabel(\"Age\")\n",
    "# _ = ax2.set_title(\"Original distribution\")"
   ]
  },
  {
   "cell_type": "markdown",
   "metadata": {},
   "source": [
    "* after a lot of tests, it seems that imputing age seems to hurt the predictive power of the model more than help. So I will opt for a two model strategy where I will train a model that includes 'Age' related features and train another model where all 'Age' related features are removed. That said, the data exploration was still helpful"
   ]
  },
  {
   "cell_type": "markdown",
   "metadata": {},
   "source": [
    "### Feature Engineering"
   ]
  },
  {
   "cell_type": "markdown",
   "metadata": {},
   "source": [
    "* Look into 'Sage' family who had 0 survival rate despite having women and children"
   ]
  },
  {
   "cell_type": "code",
   "execution_count": 51,
   "metadata": {},
   "outputs": [
    {
     "data": {
      "text/html": [
       "<div>\n",
       "<style scoped>\n",
       "    .dataframe tbody tr th:only-of-type {\n",
       "        vertical-align: middle;\n",
       "    }\n",
       "\n",
       "    .dataframe tbody tr th {\n",
       "        vertical-align: top;\n",
       "    }\n",
       "\n",
       "    .dataframe thead th {\n",
       "        text-align: right;\n",
       "    }\n",
       "</style>\n",
       "<table border=\"1\" class=\"dataframe\">\n",
       "  <thead>\n",
       "    <tr style=\"text-align: right;\">\n",
       "      <th></th>\n",
       "      <th>PassengerId</th>\n",
       "      <th>Survived</th>\n",
       "      <th>Pclass</th>\n",
       "      <th>Name</th>\n",
       "      <th>Sex</th>\n",
       "      <th>Age</th>\n",
       "      <th>SibSp</th>\n",
       "      <th>Parch</th>\n",
       "      <th>Ticket</th>\n",
       "      <th>Fare</th>\n",
       "      <th>Cabin</th>\n",
       "      <th>Embarked</th>\n",
       "    </tr>\n",
       "  </thead>\n",
       "  <tbody>\n",
       "    <tr>\n",
       "      <th>159</th>\n",
       "      <td>160</td>\n",
       "      <td>0</td>\n",
       "      <td>3</td>\n",
       "      <td>Sage, Master. Thomas Henry</td>\n",
       "      <td>male</td>\n",
       "      <td>NaN</td>\n",
       "      <td>8</td>\n",
       "      <td>2</td>\n",
       "      <td>CA. 2343</td>\n",
       "      <td>69.55</td>\n",
       "      <td>NaN</td>\n",
       "      <td>S</td>\n",
       "    </tr>\n",
       "    <tr>\n",
       "      <th>180</th>\n",
       "      <td>181</td>\n",
       "      <td>0</td>\n",
       "      <td>3</td>\n",
       "      <td>Sage, Miss. Constance Gladys</td>\n",
       "      <td>female</td>\n",
       "      <td>NaN</td>\n",
       "      <td>8</td>\n",
       "      <td>2</td>\n",
       "      <td>CA. 2343</td>\n",
       "      <td>69.55</td>\n",
       "      <td>NaN</td>\n",
       "      <td>S</td>\n",
       "    </tr>\n",
       "    <tr>\n",
       "      <th>201</th>\n",
       "      <td>202</td>\n",
       "      <td>0</td>\n",
       "      <td>3</td>\n",
       "      <td>Sage, Mr. Frederick</td>\n",
       "      <td>male</td>\n",
       "      <td>NaN</td>\n",
       "      <td>8</td>\n",
       "      <td>2</td>\n",
       "      <td>CA. 2343</td>\n",
       "      <td>69.55</td>\n",
       "      <td>NaN</td>\n",
       "      <td>S</td>\n",
       "    </tr>\n",
       "    <tr>\n",
       "      <th>324</th>\n",
       "      <td>325</td>\n",
       "      <td>0</td>\n",
       "      <td>3</td>\n",
       "      <td>Sage, Mr. George John Jr</td>\n",
       "      <td>male</td>\n",
       "      <td>NaN</td>\n",
       "      <td>8</td>\n",
       "      <td>2</td>\n",
       "      <td>CA. 2343</td>\n",
       "      <td>69.55</td>\n",
       "      <td>NaN</td>\n",
       "      <td>S</td>\n",
       "    </tr>\n",
       "    <tr>\n",
       "      <th>792</th>\n",
       "      <td>793</td>\n",
       "      <td>0</td>\n",
       "      <td>3</td>\n",
       "      <td>Sage, Miss. Stella Anna</td>\n",
       "      <td>female</td>\n",
       "      <td>NaN</td>\n",
       "      <td>8</td>\n",
       "      <td>2</td>\n",
       "      <td>CA. 2343</td>\n",
       "      <td>69.55</td>\n",
       "      <td>NaN</td>\n",
       "      <td>S</td>\n",
       "    </tr>\n",
       "    <tr>\n",
       "      <th>846</th>\n",
       "      <td>847</td>\n",
       "      <td>0</td>\n",
       "      <td>3</td>\n",
       "      <td>Sage, Mr. Douglas Bullen</td>\n",
       "      <td>male</td>\n",
       "      <td>NaN</td>\n",
       "      <td>8</td>\n",
       "      <td>2</td>\n",
       "      <td>CA. 2343</td>\n",
       "      <td>69.55</td>\n",
       "      <td>NaN</td>\n",
       "      <td>S</td>\n",
       "    </tr>\n",
       "    <tr>\n",
       "      <th>863</th>\n",
       "      <td>864</td>\n",
       "      <td>0</td>\n",
       "      <td>3</td>\n",
       "      <td>Sage, Miss. Dorothy Edith \"Dolly\"</td>\n",
       "      <td>female</td>\n",
       "      <td>NaN</td>\n",
       "      <td>8</td>\n",
       "      <td>2</td>\n",
       "      <td>CA. 2343</td>\n",
       "      <td>69.55</td>\n",
       "      <td>NaN</td>\n",
       "      <td>S</td>\n",
       "    </tr>\n",
       "  </tbody>\n",
       "</table>\n",
       "</div>"
      ],
      "text/plain": [
       "     PassengerId  Survived  Pclass                               Name     Sex  \\\n",
       "159          160         0       3         Sage, Master. Thomas Henry    male   \n",
       "180          181         0       3       Sage, Miss. Constance Gladys  female   \n",
       "201          202         0       3                Sage, Mr. Frederick    male   \n",
       "324          325         0       3           Sage, Mr. George John Jr    male   \n",
       "792          793         0       3            Sage, Miss. Stella Anna  female   \n",
       "846          847         0       3           Sage, Mr. Douglas Bullen    male   \n",
       "863          864         0       3  Sage, Miss. Dorothy Edith \"Dolly\"  female   \n",
       "\n",
       "     Age  SibSp  Parch    Ticket   Fare Cabin Embarked  \n",
       "159  NaN      8      2  CA. 2343  69.55   NaN        S  \n",
       "180  NaN      8      2  CA. 2343  69.55   NaN        S  \n",
       "201  NaN      8      2  CA. 2343  69.55   NaN        S  \n",
       "324  NaN      8      2  CA. 2343  69.55   NaN        S  \n",
       "792  NaN      8      2  CA. 2343  69.55   NaN        S  \n",
       "846  NaN      8      2  CA. 2343  69.55   NaN        S  \n",
       "863  NaN      8      2  CA. 2343  69.55   NaN        S  "
      ]
     },
     "execution_count": 51,
     "metadata": {},
     "output_type": "execute_result"
    }
   ],
   "source": [
    "raw_train_df[raw_train_df['Name'].str.startswith('Sage,')]"
   ]
  },
  {
   "cell_type": "markdown",
   "metadata": {},
   "source": [
    "Maybe, family size and/or the Pclass also played a big role in survivorship. Let's engineer some features and explore!"
   ]
  },
  {
   "cell_type": "code",
   "execution_count": 52,
   "metadata": {},
   "outputs": [
    {
     "data": {
      "text/html": [
       "<div>\n",
       "<style scoped>\n",
       "    .dataframe tbody tr th:only-of-type {\n",
       "        vertical-align: middle;\n",
       "    }\n",
       "\n",
       "    .dataframe tbody tr th {\n",
       "        vertical-align: top;\n",
       "    }\n",
       "\n",
       "    .dataframe thead th {\n",
       "        text-align: right;\n",
       "    }\n",
       "</style>\n",
       "<table border=\"1\" class=\"dataframe\">\n",
       "  <thead>\n",
       "    <tr style=\"text-align: right;\">\n",
       "      <th></th>\n",
       "      <th>PassengerId</th>\n",
       "      <th>Survived</th>\n",
       "      <th>Pclass</th>\n",
       "      <th>Name</th>\n",
       "      <th>Sex</th>\n",
       "      <th>Age</th>\n",
       "      <th>SibSp</th>\n",
       "      <th>Parch</th>\n",
       "      <th>Ticket</th>\n",
       "      <th>Fare</th>\n",
       "      <th>Embarked</th>\n",
       "      <th>deck_level</th>\n",
       "      <th>title</th>\n",
       "      <th>family_size</th>\n",
       "    </tr>\n",
       "  </thead>\n",
       "  <tbody>\n",
       "    <tr>\n",
       "      <th>0</th>\n",
       "      <td>1</td>\n",
       "      <td>0</td>\n",
       "      <td>3</td>\n",
       "      <td>Braund, Mr. Owen Harris</td>\n",
       "      <td>male</td>\n",
       "      <td>22.0</td>\n",
       "      <td>1</td>\n",
       "      <td>0</td>\n",
       "      <td>A/5 21171</td>\n",
       "      <td>7.2500</td>\n",
       "      <td>S</td>\n",
       "      <td>U</td>\n",
       "      <td>Mr</td>\n",
       "      <td>1</td>\n",
       "    </tr>\n",
       "    <tr>\n",
       "      <th>1</th>\n",
       "      <td>2</td>\n",
       "      <td>1</td>\n",
       "      <td>1</td>\n",
       "      <td>Cumings, Mrs. John Bradley (Florence Briggs Th...</td>\n",
       "      <td>female</td>\n",
       "      <td>38.0</td>\n",
       "      <td>1</td>\n",
       "      <td>0</td>\n",
       "      <td>PC 17599</td>\n",
       "      <td>71.2833</td>\n",
       "      <td>C</td>\n",
       "      <td>C</td>\n",
       "      <td>Mrs</td>\n",
       "      <td>1</td>\n",
       "    </tr>\n",
       "    <tr>\n",
       "      <th>2</th>\n",
       "      <td>3</td>\n",
       "      <td>1</td>\n",
       "      <td>3</td>\n",
       "      <td>Heikkinen, Miss. Laina</td>\n",
       "      <td>female</td>\n",
       "      <td>26.0</td>\n",
       "      <td>0</td>\n",
       "      <td>0</td>\n",
       "      <td>STON/O2. 3101282</td>\n",
       "      <td>7.9250</td>\n",
       "      <td>S</td>\n",
       "      <td>U</td>\n",
       "      <td>Miss</td>\n",
       "      <td>0</td>\n",
       "    </tr>\n",
       "    <tr>\n",
       "      <th>3</th>\n",
       "      <td>4</td>\n",
       "      <td>1</td>\n",
       "      <td>1</td>\n",
       "      <td>Futrelle, Mrs. Jacques Heath (Lily May Peel)</td>\n",
       "      <td>female</td>\n",
       "      <td>35.0</td>\n",
       "      <td>1</td>\n",
       "      <td>0</td>\n",
       "      <td>113803</td>\n",
       "      <td>53.1000</td>\n",
       "      <td>S</td>\n",
       "      <td>C</td>\n",
       "      <td>Mrs</td>\n",
       "      <td>1</td>\n",
       "    </tr>\n",
       "    <tr>\n",
       "      <th>4</th>\n",
       "      <td>5</td>\n",
       "      <td>0</td>\n",
       "      <td>3</td>\n",
       "      <td>Allen, Mr. William Henry</td>\n",
       "      <td>male</td>\n",
       "      <td>35.0</td>\n",
       "      <td>0</td>\n",
       "      <td>0</td>\n",
       "      <td>373450</td>\n",
       "      <td>8.0500</td>\n",
       "      <td>S</td>\n",
       "      <td>U</td>\n",
       "      <td>Mr</td>\n",
       "      <td>0</td>\n",
       "    </tr>\n",
       "  </tbody>\n",
       "</table>\n",
       "</div>"
      ],
      "text/plain": [
       "   PassengerId  Survived  Pclass  \\\n",
       "0            1         0       3   \n",
       "1            2         1       1   \n",
       "2            3         1       3   \n",
       "3            4         1       1   \n",
       "4            5         0       3   \n",
       "\n",
       "                                                Name     Sex   Age  SibSp  \\\n",
       "0                            Braund, Mr. Owen Harris    male  22.0      1   \n",
       "1  Cumings, Mrs. John Bradley (Florence Briggs Th...  female  38.0      1   \n",
       "2                             Heikkinen, Miss. Laina  female  26.0      0   \n",
       "3       Futrelle, Mrs. Jacques Heath (Lily May Peel)  female  35.0      1   \n",
       "4                           Allen, Mr. William Henry    male  35.0      0   \n",
       "\n",
       "   Parch            Ticket     Fare Embarked deck_level title  family_size  \n",
       "0      0         A/5 21171   7.2500        S          U    Mr            1  \n",
       "1      0          PC 17599  71.2833        C          C   Mrs            1  \n",
       "2      0  STON/O2. 3101282   7.9250        S          U  Miss            0  \n",
       "3      0            113803  53.1000        S          C   Mrs            1  \n",
       "4      0            373450   8.0500        S          U    Mr            0  "
      ]
     },
     "metadata": {},
     "output_type": "display_data"
    },
    {
     "data": {
      "image/png": "[encoded data removed]",
      "text/plain": [
       "<Figure size 432x288 with 1 Axes>"
      ]
     },
     "metadata": {
      "needs_background": "light"
     },
     "output_type": "display_data"
    }
   ],
   "source": [
    "# Let's add family_size which is just the sum of 'SibSp' and 'Parch'\n",
    "train_df['family_size'] = train_df['SibSp'] + train_df['Parch']\n",
    "test_df['family_size'] = test_df['SibSp'] + test_df['Parch']\n",
    "# Check that things were added properly\n",
    "display(train_df.head())\n",
    "# Plot family size grouped by survival\n",
    "train_df.groupby(['Survived', pd.cut(train_df['family_size'], np.arange(0, 11))]).size().unstack(0).plot.bar(stacked=True)\n",
    "plt.xlabel(\"Family Size\")\n",
    "_ = plt.title(\"Histogram of family size grouped by survival\")"
   ]
  },
  {
   "cell_type": "markdown",
   "metadata": {},
   "source": [
    "Large family is not good for survival. What about PClass?"
   ]
  },
  {
   "cell_type": "code",
   "execution_count": 53,
   "metadata": {},
   "outputs": [
    {
     "data": {
      "image/png": "[encoded data removed]",
      "text/plain": [
       "<Figure size 432x288 with 1 Axes>"
      ]
     },
     "metadata": {
      "needs_background": "light"
     },
     "output_type": "display_data"
    }
   ],
   "source": [
    "train_df.groupby(['Survived', 'Pclass', pd.cut(train_df['family_size'], np.arange(0, 11))]).size().unstack(0).plot.bar(stacked=True)\n",
    "plt.ylabel(\"Frequency\")\n",
    "_ = plt.title(\"Histogram of Pclass x family size grouped by survival\")"
   ]
  },
  {
   "cell_type": "code",
   "execution_count": 54,
   "metadata": {},
   "outputs": [
    {
     "data": {
      "image/png": "[encoded data removed]",
      "text/plain": [
       "<Figure size 432x288 with 1 Axes>"
      ]
     },
     "metadata": {
      "needs_background": "light"
     },
     "output_type": "display_data"
    }
   ],
   "source": [
    "train_df.groupby(['Survived', pd.cut(train_df['Pclass'], np.arange(0, 4))]).size().unstack(0).plot.bar(stacked=True)\n",
    "_ = plt.title(\"Histogram of Pclass grouped by survival\")"
   ]
  },
  {
   "cell_type": "markdown",
   "metadata": {},
   "source": [
    "* Being in high PClass relates to survivability. Let's look in to gender too."
   ]
  },
  {
   "cell_type": "code",
   "execution_count": 55,
   "metadata": {},
   "outputs": [
    {
     "data": {
      "image/png": "[encoded data removed]",
      "text/plain": [
       "<Figure size 432x288 with 1 Axes>"
      ]
     },
     "metadata": {
      "needs_background": "light"
     },
     "output_type": "display_data"
    }
   ],
   "source": [
    "train_df.groupby(['Survived', 'Sex', pd.cut(train_df['Pclass'], np.arange(0, 4))]).size().unstack(0).plot.bar(stacked=True)\n",
    "_ = plt.title(\"Histogram of gender x Pclass grouped by survival\")\n",
    "plt.tight_layout()"
   ]
  },
  {
   "cell_type": "markdown",
   "metadata": {},
   "source": [
    "Can also be found in my EDA\n",
    "\n",
    "Also, Gender * Age"
   ]
  },
  {
   "cell_type": "code",
   "execution_count": 56,
   "metadata": {},
   "outputs": [
    {
     "data": {
      "image/png": "[encoded data removed]",
      "text/plain": [
       "<Figure size 432x288 with 1 Axes>"
      ]
     },
     "metadata": {
      "needs_background": "light"
     },
     "output_type": "display_data"
    }
   ],
   "source": [
    "train_df.groupby(['Survived', 'Sex', pd.cut(train_df['Age'], np.arange(0, 80, 10))]).size().unstack(0).plot.bar(stacked=True)\n",
    "_ = plt.title(\"Histogram of gender x Age grouped by survival\")\n",
    "plt.tight_layout()"
   ]
  },
  {
   "cell_type": "markdown",
   "metadata": {},
   "source": [
    "Also, Gender * PClass * Age"
   ]
  },
  {
   "cell_type": "code",
   "execution_count": 57,
   "metadata": {},
   "outputs": [
    {
     "data": {
      "image/png": "[encoded data removed]",
      "text/plain": [
       "<Figure size 432x288 with 1 Axes>"
      ]
     },
     "metadata": {
      "needs_background": "light"
     },
     "output_type": "display_data"
    }
   ],
   "source": [
    "train_df.groupby(['Survived', 'Sex', 'Pclass', pd.cut(train_df['Age'], np.arange(0, 80, 10))]).size().unstack(0).plot.bar(stacked=True)\n",
    "_ = plt.title(\"Histogram of gender x Pclass x Age grouped by survival\")\n",
    "plt.tight_layout()"
   ]
  },
  {
   "cell_type": "markdown",
   "metadata": {},
   "source": [
    "### Pipeline for Tensorflow"
   ]
  },
  {
   "cell_type": "code",
   "execution_count": 58,
   "metadata": {},
   "outputs": [],
   "source": [
    "# To get things to work nicely with tensorflow we'll need to subtract one from 'Pclass' so our classes start at 0\n",
    "train_df['Pclass'] = train_df['Pclass'] - 1\n",
    "test_df['Pclass'] = test_df['Pclass'] - 1"
   ]
  },
  {
   "cell_type": "code",
   "execution_count": 59,
   "metadata": {},
   "outputs": [
    {
     "data": {
      "text/plain": [
       "Index(['PassengerId', 'Survived', 'Pclass', 'Name', 'Sex', 'Age', 'SibSp',\n",
       "       'Parch', 'Ticket', 'Fare', 'Embarked', 'deck_level', 'title',\n",
       "       'family_size'],\n",
       "      dtype='object')"
      ]
     },
     "execution_count": 59,
     "metadata": {},
     "output_type": "execute_result"
    }
   ],
   "source": [
    "# Let's remind ourselves of the data columns we have\n",
    "train_df.columns"
   ]
  },
  {
   "cell_type": "code",
   "execution_count": 60,
   "metadata": {},
   "outputs": [],
   "source": [
    "def build_feature_columns(use_age=False):\n",
    "    \"\"\"\n",
    "    Build our tensorflow feature columns!\n",
    "    \n",
    "    For a great overview of the different feature columns in tensorflow and when to use them, see:\n",
    "    https://www.tensorflow.org/versions/master/get_started/feature_columns\n",
    "    \n",
    "    We'll build a set of wide features (when we need to learn feature interactions) as well as deep features (when we need generalization)\n",
    "    \"\"\"\n",
    "    # ======== Basic features =========\n",
    "    # Categorical features\n",
    "    Pclass = tf.feature_column.categorical_column_with_identity(\"Pclass\", num_buckets = 3)\n",
    "    Sex = tf.feature_column.categorical_column_with_vocabulary_list(\"Sex\", [\"female\", \"male\"])\n",
    "    Embarked = tf.feature_column.categorical_column_with_vocabulary_list(\"Embarked\", [\"C\", \"N\", \"Q\", \"S\"])\n",
    "    #Name = tf.feature_column.categorical_column_with_hash_bucket(\"Name\", hash_bucket_size = 100)\n",
    "    Ticket = tf.feature_column.categorical_column_with_hash_bucket(\"Ticket\", hash_bucket_size = 400)\n",
    "    \n",
    "    # Continuous features\n",
    "    SibSp = tf.feature_column.numeric_column(\"SibSp\")\n",
    "    Parch = tf.feature_column.numeric_column(\"Parch\")\n",
    "    Fare = tf.feature_column.numeric_column(\"Fare\")\n",
    "    if (use_age):\n",
    "        Age = tf.feature_column.numeric_column(\"Age\")\n",
    "    \n",
    "    # ======== Engineered features =======\n",
    "    # Basic engineered features\n",
    "    #deck_level = tf.feature_column.categorical_column_with_vocabulary_list(\"deck_level\", [\"A\", \"B\", \"C\", \"D\", \"E\", \"F\", \"G\", \"T\", \"U\"])\n",
    "    family_size = tf.feature_column.numeric_column(\"family_size\")\n",
    "    title = tf.feature_column.categorical_column_with_hash_bucket(\"title\", hash_bucket_size = 10)\n",
    "    \n",
    "    # Bucketed features\n",
    "    fare_buckets = tf.feature_column.bucketized_column(Fare, boundaries=list(range(0, 200, 5)))\n",
    "    family_size_buckets = tf.feature_column.bucketized_column(family_size, boundaries=[1, 2, 3, 4, 5, 6, 7])\n",
    "    Parch_buckets = tf.feature_column.bucketized_column(Parch, boundaries=[1,2,3,4,5,6])\n",
    "    SibSp_buckets = tf.feature_column.bucketized_column(SibSp, boundaries=[1,2,3,4,5,6])\n",
    "    \n",
    "    # Crossed features\n",
    "    Pclass_x_Sex = tf.feature_column.crossed_column(keys = [Pclass, Sex], hash_bucket_size = 10)\n",
    "    Pclass_x_family_size = tf.feature_column.crossed_column(keys = [Pclass, family_size_buckets], hash_bucket_size = 30)\n",
    "    Pclass_x_Sex_x_Embarked = tf.feature_column.crossed_column(keys = [Pclass, Sex, Embarked], hash_bucket_size = 30)\n",
    "    \n",
    "    # Age features\n",
    "    if (use_age):\n",
    "        age_buckets = tf.feature_column.bucketized_column(Age, boundaries=[5, 15, 25, 35, 45, 55, 65])\n",
    "        Pclass_x_Sex_x_age_buckets = tf.feature_column.crossed_column(keys = [Pclass, Sex, age_buckets], hash_bucket_size = 100)\n",
    "    \n",
    "    # =========== Putting together wide features =================\n",
    "    wide_features = set([Pclass, Sex, Ticket, Embarked, title, fare_buckets, Parch_buckets, SibSp_buckets, family_size_buckets,\n",
    "                         Pclass_x_Sex, Pclass_x_family_size, Pclass_x_Sex_x_Embarked])\n",
    "    if (use_age):\n",
    "        wide_features |= set([age_buckets, Pclass_x_Sex_x_age_buckets])\n",
    "    \n",
    "    # =========== Putting together deep features =================\n",
    "    deep_features = set([SibSp, Parch, Fare, family_size,\n",
    "                         tf.feature_column.indicator_column(Pclass),\n",
    "                         tf.feature_column.indicator_column(Sex),\n",
    "                         tf.feature_column.indicator_column(title),\n",
    "                         tf.feature_column.indicator_column(Embarked),\n",
    "                         tf.feature_column.embedding_column(Ticket, dimension = 10)])\n",
    "    if (use_age):\n",
    "        deep_features |= set([Age])\n",
    "\n",
    "    return((wide_features, deep_features))"
   ]
  },
  {
   "cell_type": "code",
   "execution_count": 61,
   "metadata": {},
   "outputs": [],
   "source": [
    "def input_fn(features, targets, batch_size=1, shuffle=True, num_epochs=None):\n",
    "    \"\"\"\n",
    "    This is our input function that will pass data into the tensorflow DNN class we'll create.\n",
    "    It takes in a pandas dataframe.\n",
    "    It outputs a tensorflow dataset one_shot_iterator\n",
    "    \"\"\"\n",
    "    # Convert pandas df to dict of numpy arrays\n",
    "    features = {key:np.array(value) for key, value in dict(features).items()}\n",
    "    # Put together the tensorflow dataset. Configures batching/repeating.\n",
    "    dataset = Dataset.from_tensor_slices((features, targets))\n",
    "    dataset = dataset.batch(batch_size).repeat(num_epochs)\n",
    "    # Shuffle data\n",
    "    if (shuffle):\n",
    "        dataset = dataset.shuffle(buffer_size = 50000)\n",
    "    features, labels = dataset.make_one_shot_iterator().get_next()\n",
    "    return (features, labels)"
   ]
  },
  {
   "cell_type": "markdown",
   "metadata": {},
   "source": [
    "## Model with Tensorflow"
   ]
  },
  {
   "cell_type": "code",
   "execution_count": 64,
   "metadata": {},
   "outputs": [],
   "source": [
    "def plot_acc(train_accs, val_accs):\n",
    "    fig, ax = plt.subplots(1, 1)\n",
    "    ax.set_ylabel(\"Accuracy\")\n",
    "    ax.set_xlabel(\"Period\")\n",
    "    ax.set_title(\"DNN model accuracy vs. Period\")\n",
    "    ax.plot(train_accs, label = \"train\")\n",
    "    ax.plot(val_accs, label = \"validation\")\n",
    "    ax.legend()\n",
    "    fig.tight_layout()\n",
    "    \n",
    "    print(\"Final accuracy (train):\\t\\t{:.3f}\".format(train_accs[-1]))\n",
    "    print(\"Final accuracy (validation):\\t{:.3f}\\n\".format(val_accs[-1]))\n",
    "\n",
    "def train_wnd_classifier(periods, dnn_learning_rate, lin_learning_rate, steps, batch_size, hidden_units, train_ex, train_targ, val_ex, val_targ, use_age=False):\n",
    "    #steps per period (spp)\n",
    "    spp = steps / periods\n",
    "    # We'll use the FTRL optimizer for our linear portion\n",
    "    lin_optim = tf.train.FtrlOptimizer(learning_rate = lin_learning_rate)\n",
    "    # We'll use the ProximalAdagradOptimizer with L1 regularization to punish overly complex deep models\n",
    "    # We'll use L2 regularization to punish over-reliance on any one feature\n",
    "    dnn_optim = tf.train.ProximalAdagradOptimizer(learning_rate = dnn_learning_rate,\n",
    "                                                  l1_regularization_strength = 0.05,\n",
    "                                                  l2_regularization_strength = 0.05)\n",
    "\n",
    "    wide_features, deep_features = build_feature_columns(use_age)\n",
    "    # We'll use a wide-n-deep classifier to get model that can memorize and generalize\n",
    "    wnd_classifier = tf.estimator.DNNLinearCombinedClassifier(\n",
    "        #Wide settings\n",
    "        linear_feature_columns = wide_features,\n",
    "        linear_optimizer = lin_optim,\n",
    "        #Deep settings\n",
    "        dnn_feature_columns = deep_features,\n",
    "        dnn_hidden_units = hidden_units,\n",
    "        dnn_optimizer = dnn_optim,\n",
    "        dnn_dropout = 0.5,\n",
    "        dnn_activation_fn = tf.nn.leaky_relu\n",
    "    )\n",
    "    \n",
    "    # Input functions\n",
    "    train_input_fn = lambda: input_fn(train_ex, train_targ, batch_size = batch_size)\n",
    "    pred_train_input_fn = lambda: input_fn(train_ex, train_targ, num_epochs = 1, shuffle = False)\n",
    "    pred_val_input_fn = lambda: input_fn(val_ex, val_targ, num_epochs = 1, shuffle = False)\n",
    "    #train and validation accuracy per period\n",
    "    train_app = []\n",
    "    val_app = []\n",
    "    for period in range(periods):\n",
    "        # Train our classifier\n",
    "        wnd_classifier.train(input_fn = train_input_fn, steps = spp)\n",
    "        # Check how our classifier does on training set after one period\n",
    "        train_pred = wnd_classifier.predict(input_fn = pred_train_input_fn)\n",
    "        train_pred = np.array([pred['class_ids'][0] for pred in train_pred])\n",
    "        # Check how our classifier does on the validation set after one period\n",
    "        val_pred = wnd_classifier.predict(input_fn = pred_val_input_fn)\n",
    "        val_pred = np.array([pred['class_ids'][0] for pred in val_pred])\n",
    "        # Calculate accuracy metrics\n",
    "        train_acc = accuracy_score(train_targ, train_pred)\n",
    "        val_acc = accuracy_score(val_targ, val_pred)\n",
    "        print(\"period {} train acc: {:.3f}\".format(str(period).zfill(3), train_acc))\n",
    "        # Add our accuracies to running list\n",
    "        train_app.append(train_acc)\n",
    "        val_app.append(val_acc)\n",
    "    print(\"\\nTraining done!\\n\")\n",
    "    plot_acc(train_app, val_app)\n",
    "    return (wnd_classifier, train_app, val_app)"
   ]
  },
  {
   "cell_type": "markdown",
   "metadata": {},
   "source": [
    "## K-Fold Cross Validation"
   ]
  },
  {
   "cell_type": "code",
   "execution_count": 65,
   "metadata": {},
   "outputs": [],
   "source": [
    "BASIC_MODEL = [\"Pclass\", \"Sex\", \"SibSp\", \"Parch\", \"Fare\", \"Embarked\", \"Ticket\", \"family_size\", \"title\"]\n",
    "AGE_MODEL = BASIC_MODEL + [\"Age\"]\n",
    "# Unused features:\n",
    "# deck_level\n",
    "# Cabin"
   ]
  },
  {
   "cell_type": "markdown",
   "metadata": {},
   "source": [
    "* We'll use K-Fold cross validation to get an idea of how our models will perform on the test data."
   ]
  },
  {
   "cell_type": "code",
   "execution_count": 66,
   "metadata": {},
   "outputs": [],
   "source": [
    "def run_kfold_analysis(train_df, use_age=False):\n",
    "    kf = KFold(n_splits = 10, shuffle = True)\n",
    "    if (use_age):\n",
    "        # If we're training our age model then we need to drop all rows where 'Age' == NaN\n",
    "        train_df = train_df.dropna(axis = 0)\n",
    "        features_to_use = AGE_MODEL\n",
    "    else:\n",
    "        features_to_use = BASIC_MODEL\n",
    "    split_indices = kf.split(train_df)\n",
    "\n",
    "    fold_classifiers = []\n",
    "    for curr_fold, (train_indices, xval_indices) in enumerate(split_indices):\n",
    "        # Set up our train examples and targets\n",
    "        train_ex_df = train_df.iloc[train_indices]\n",
    "        train_targ_series = train_ex_df['Survived']\n",
    "        # Set up our xval examples and targets\n",
    "        xval_ex_df = train_df.iloc[xval_indices]\n",
    "        xval_targ_series = xval_ex_df['Survived']\n",
    "        # Select our variables of interest\n",
    "        train_ex_df = train_ex_df[features_to_use]\n",
    "        xval_ex_df = xval_ex_df[features_to_use]\n",
    "\n",
    "        print(\"========= Current fold: {} =============\".format(curr_fold))\n",
    "        print(\"\\nTotal training samples: {}\".format(len(train_df)))\n",
    "        print(\"New training split: {}\".format(len(train_ex_df)))\n",
    "        print(\"New xval split: {}\\n\".format(len(xval_ex_df)))\n",
    "\n",
    "        classifier, train_perf, val_perf = train_wnd_classifier(periods = 10,\n",
    "                                                                lin_learning_rate = 0.01,\n",
    "                                                                dnn_learning_rate = 0.01,\n",
    "                                                                steps = 6000,\n",
    "                                                                batch_size = 15,\n",
    "                                                                hidden_units = [200, 150, 100],\n",
    "                                                                train_ex = train_ex_df,\n",
    "                                                                train_targ = train_targ_series,\n",
    "                                                                val_ex = xval_ex_df,\n",
    "                                                                val_targ = xval_targ_series,\n",
    "                                                                use_age = use_age)\n",
    "        \n",
    "        fold_classifiers.append((classifier, train_perf, val_perf))\n",
    "    return(fold_classifiers)"
   ]
  },
  {
   "cell_type": "markdown",
   "metadata": {},
   "source": [
    "* Uncomment the following lines to run cross_validation analysis (It's time consuming though!)"
   ]
  },
  {
   "cell_type": "code",
   "execution_count": null,
   "metadata": {},
   "outputs": [],
   "source": [
    "\"\"\"\n",
    "print(\"\\n================= Results of BASIC_MODEL ==================\\n\")\n",
    "basic_model_results = run_kfold_analysis(train_df, use_age = False)\n",
    "print(\"\\n================== Results of AGE_MODEL ===================\\n\")\n",
    "age_model_results = run_kfold_analysis(train_df, use_age = True)\n",
    "\"\"\""
   ]
  },
  {
   "cell_type": "markdown",
   "metadata": {},
   "source": [
    "### Train on our entire dataset and make predictions for test dataset"
   ]
  },
  {
   "cell_type": "markdown",
   "metadata": {},
   "source": [
    "* Basic Model"
   ]
  },
  {
   "cell_type": "code",
   "execution_count": null,
   "metadata": {},
   "outputs": [],
   "source": [
    "# Set up our train examples and targets\n",
    "final_train_ex_df = train_df\n",
    "final_train_targ_series = final_train_ex_df['Survived']\n",
    "# Dummy dataset that we won't actually consider or care about\n",
    "dummy_df = final_train_ex_df\n",
    "dummy_targ_series = final_train_targ_series\n",
    "# Select features in our basic model\n",
    "final_train_ex_df = final_train_ex_df[BASIC_MODEL]\n",
    "dummy_df = dummy_df[BASIC_MODEL]\n",
    "\n",
    "basic_classifier, basic_train_perf, _ = train_wnd_classifier(periods = 10,\n",
    "                                                            lin_learning_rate = 0.01,\n",
    "                                                            dnn_learning_rate = 0.01,\n",
    "                                                            steps = 6000,\n",
    "                                                            batch_size = 15,\n",
    "                                                            hidden_units = [200, 150, 100],\n",
    "                                                            train_ex = final_train_ex_df,\n",
    "                                                            train_targ = final_train_targ_series,\n",
    "                                                            val_ex = dummy_df,\n",
    "                                                            val_targ = dummy_targ_series,\n",
    "                                                            use_age = False)"
   ]
  },
  {
   "cell_type": "markdown",
   "metadata": {},
   "source": [
    "* Age Model"
   ]
  },
  {
   "cell_type": "code",
   "execution_count": null,
   "metadata": {},
   "outputs": [],
   "source": [
    "# Set up our train examples and targets\n",
    "final_train_ex_df = train_df.dropna(axis = 0)\n",
    "final_train_targ_series = final_train_ex_df['Survived']\n",
    "# Dummy dataset that we won't actually consider or care about\n",
    "dummy_df = final_train_ex_df\n",
    "dummy_targ_series = final_train_targ_series\n",
    "# Select features in our age model\n",
    "final_train_ex_df = final_train_ex_df[AGE_MODEL]\n",
    "dummy_df = dummy_df[AGE_MODEL]\n",
    "\n",
    "age_classifier, age_train_perf, _ = train_wnd_classifier(periods = 10,\n",
    "                                                         lin_learning_rate = 0.01,\n",
    "                                                         dnn_learning_rate = 0.01,\n",
    "                                                         steps = 6000,\n",
    "                                                         batch_size = 15,\n",
    "                                                         hidden_units = [200, 150, 100],\n",
    "                                                         train_ex = final_train_ex_df,\n",
    "                                                         train_targ = final_train_targ_series,\n",
    "                                                         val_ex = dummy_df,\n",
    "                                                         val_targ = dummy_targ_series,\n",
    "                                                         use_age = True)"
   ]
  },
  {
   "cell_type": "markdown",
   "metadata": {},
   "source": [
    "* Grand Final: Prediction for the Test Set"
   ]
  },
  {
   "cell_type": "code",
   "execution_count": null,
   "metadata": {},
   "outputs": [],
   "source": [
    "# Split our test set into 2 dataframes (one where we can use our age model and the other where we use our basic model)\n",
    "age_test_ex_df = test_df.dropna(axis = 0)\n",
    "basic_test_ex_df = test_df.drop(age_test_ex_df.index)\n",
    "\n",
    "# Create a dummy series that will be compatible with our input_fn\n",
    "age_test_targ_series = pd.Series(np.zeros(len(age_test_ex_df), dtype=int))\n",
    "basic_test_targ_series = pd.Series(np.zeros(len(basic_test_ex_df), dtype=int))\n",
    "\n",
    "# Setup our input functions\n",
    "pred_age_test_input_fn = lambda: input_fn(age_test_ex_df[AGE_MODEL], age_test_targ_series, num_epochs = 1, shuffle = False)\n",
    "pred_basic_test_input_fn = lambda: input_fn(basic_test_ex_df[BASIC_MODEL], basic_test_targ_series, num_epochs = 1, shuffle = False)\n",
    "\n",
    "# Make predictions for rows that have ages\n",
    "age_test_preds = age_classifier.predict(input_fn = pred_age_test_input_fn)\n",
    "age_test_preds = np.array([pred['class_ids'][0] for pred in age_test_preds])\n",
    "\n",
    "# Make predictions for rows that lack ages\n",
    "basic_test_preds = basic_classifier.predict(input_fn = pred_basic_test_input_fn)\n",
    "basic_test_preds = np.array([pred['class_ids'][0] for pred in basic_test_preds])\n",
    "\n",
    "# Let's put together our submission dataframe by merging our age and basic prediction sets\n",
    "age_predictions = age_test_ex_df[[\"PassengerId\"]]\n",
    "age_predictions = age_predictions.assign(Survived=pd.Series(age_test_preds).values)\n",
    "basic_predictions = basic_test_ex_df[[\"PassengerId\"]]\n",
    "basic_predictions = basic_predictions.assign(Survived=pd.Series(basic_test_preds).values)\n",
    "submission_df = pd.concat([age_predictions, basic_predictions])\n",
    "submission_df = submission_df.sort_values(by=['PassengerId'])\n",
    "display(submission_df)"
   ]
  },
  {
   "cell_type": "code",
   "execution_count": null,
   "metadata": {},
   "outputs": [],
   "source": [
    "submission_df.to_csv('final_submission.csv', index = False)"
   ]
  },
  {
   "cell_type": "markdown",
   "metadata": {},
   "source": [
    "### Conclusion:\n",
    "\n",
    "* I definitely should have started out with a simple set of features (i.e. Pclass, Sex, Fare) and then built up because I wasted a lot of early submissions with an overly complex model. This made it extremely hard to troubleshoot things. In the future, I will likely start with a simple set of features then add on new features once I've really optimized the hyperparameters for the more basic set.\n",
    "\n",
    "* I found in general that having high cross-validation accuracy as well as small variance between cross-validation scores for each K-fold analysis was a somewhat good predictor for reasonable test performance.\n",
    "\n",
    "* It's defintely possible that I got lucky with my submissions. The real test would be seeing how well it generalizes on the held-out test portion of the Titanic test data."
   ]
  },
  {
   "cell_type": "code",
   "execution_count": null,
   "metadata": {},
   "outputs": [],
   "source": []
  }
 ],
 "metadata": {
  "kernelspec": {
   "display_name": "Python 3",
   "language": "python",
   "name": "python3"
  },
  "language_info": {
   "codemirror_mode": {
    "name": "ipython",
    "version": 3
   },
   "file_extension": ".py",
   "mimetype": "text/x-python",
   "name": "python",
   "nbconvert_exporter": "python",
   "pygments_lexer": "ipython3",
   "version": "3.6.7"
  }
 },
 "nbformat": 4,
 "nbformat_minor": 2
}
